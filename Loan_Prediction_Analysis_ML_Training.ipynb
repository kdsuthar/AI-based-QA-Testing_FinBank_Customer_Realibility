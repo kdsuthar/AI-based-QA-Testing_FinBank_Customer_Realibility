{
  "metadata": {
    "kernelspec": {
      "name": "python",
      "display_name": "Python (Pyodide)",
      "language": "python"
    },
    "language_info": {
      "codemirror_mode": {
        "name": "python",
        "version": 3
      },
      "file_extension": ".py",
      "mimetype": "text/x-python",
      "name": "python",
      "nbconvert_exporter": "python",
      "pygments_lexer": "ipython3",
      "version": "3.8"
    }
  },
  "nbformat_minor": 5,
  "nbformat": 4,
  "cells": [
    {
      "id": "f8de8f4b-f8fb-4f5d-b857-543b09803e4e",
      "cell_type": "code",
      "source": "import pandas as pd\nimport matplotlib.pyplot as plt\nimport numpy as np\nimport sklearn as sk",
      "metadata": {
        "trusted": true
      },
      "outputs": [],
      "execution_count": 112
    },
    {
      "id": "af57bae4-b184-4d72-b6d3-2c9254215220",
      "cell_type": "code",
      "source": "dataset = pd.read_csv('train.csv')",
      "metadata": {
        "trusted": true
      },
      "outputs": [],
      "execution_count": 113
    },
    {
      "id": "43491571-db07-4736-b876-3463ce0e1ef0",
      "cell_type": "code",
      "source": "dataset = pd.read_csv('test.csv')",
      "metadata": {
        "trusted": true
      },
      "outputs": [],
      "execution_count": 114
    },
    {
      "id": "dd21c535-97d9-4fbd-9a6c-2d3dc2e2b68e",
      "cell_type": "code",
      "source": "dataset.head(5)",
      "metadata": {
        "trusted": true
      },
      "outputs": [
        {
          "execution_count": 115,
          "output_type": "execute_result",
          "data": {
            "text/plain": "   ID  Age Customer_Segment Region Preferred_Channel Employment_Status  \\\n0   1   27           Bronze   East             Phone           Retired   \n1   2   26         Platinum   West            Online        Unemployed   \n2   3   24         Platinum   West            Branch          Employed   \n3   4   39           Bronze   East            Online     Self-Employed   \n4   5   34           Bronze   West             Phone        Unemployed   \n\n   Annual_Income  Spending_Score  Savings_Amount  Loan_Amount  ...  \\\n0       32276.50              50         7014.87     17819.23  ...   \n1       46684.36               4         7024.32     32107.05  ...   \n2       43157.47              19         5164.62     12007.58  ...   \n3       50095.72              92         6613.02     18061.85  ...   \n4       59949.10               9         8528.55     19868.64  ...   \n\n   In_Person_Purchases  Customer_Tenure  Credit_Score  Avg_Transaction_Value  \\\n0                   17               11        226.53                  42.28   \n1                   15               14        498.39                  54.16   \n2                   14               13        151.16                  56.16   \n3                   20                3        328.97                  57.60   \n4                   25                3        455.50                  40.94   \n\n   Num_Bounced_Checks  Account_Balance  Referral_Count  Loyalty_Score  \\\n0                   0          4308.42               1            9.0   \n1                   0          3268.86               4            8.0   \n2                   1          4008.94               2            7.0   \n3                   1          4807.83               3            4.0   \n4                   0          6766.05               2            1.0   \n\n   Has_Credit_Card  Has_Loan  \n0              1.0       0.0  \n1              0.0       0.0  \n2              0.0       0.0  \n3              0.0       0.0  \n4              1.0       0.0  \n\n[5 rows x 23 columns]",
            "text/html": "<div>\n<style scoped>\n    .dataframe tbody tr th:only-of-type {\n        vertical-align: middle;\n    }\n\n    .dataframe tbody tr th {\n        vertical-align: top;\n    }\n\n    .dataframe thead th {\n        text-align: right;\n    }\n</style>\n<table border=\"1\" class=\"dataframe\">\n  <thead>\n    <tr style=\"text-align: right;\">\n      <th></th>\n      <th>ID</th>\n      <th>Age</th>\n      <th>Customer_Segment</th>\n      <th>Region</th>\n      <th>Preferred_Channel</th>\n      <th>Employment_Status</th>\n      <th>Annual_Income</th>\n      <th>Spending_Score</th>\n      <th>Savings_Amount</th>\n      <th>Loan_Amount</th>\n      <th>...</th>\n      <th>In_Person_Purchases</th>\n      <th>Customer_Tenure</th>\n      <th>Credit_Score</th>\n      <th>Avg_Transaction_Value</th>\n      <th>Num_Bounced_Checks</th>\n      <th>Account_Balance</th>\n      <th>Referral_Count</th>\n      <th>Loyalty_Score</th>\n      <th>Has_Credit_Card</th>\n      <th>Has_Loan</th>\n    </tr>\n  </thead>\n  <tbody>\n    <tr>\n      <th>0</th>\n      <td>1</td>\n      <td>27</td>\n      <td>Bronze</td>\n      <td>East</td>\n      <td>Phone</td>\n      <td>Retired</td>\n      <td>32276.50</td>\n      <td>50</td>\n      <td>7014.87</td>\n      <td>17819.23</td>\n      <td>...</td>\n      <td>17</td>\n      <td>11</td>\n      <td>226.53</td>\n      <td>42.28</td>\n      <td>0</td>\n      <td>4308.42</td>\n      <td>1</td>\n      <td>9.0</td>\n      <td>1.0</td>\n      <td>0.0</td>\n    </tr>\n    <tr>\n      <th>1</th>\n      <td>2</td>\n      <td>26</td>\n      <td>Platinum</td>\n      <td>West</td>\n      <td>Online</td>\n      <td>Unemployed</td>\n      <td>46684.36</td>\n      <td>4</td>\n      <td>7024.32</td>\n      <td>32107.05</td>\n      <td>...</td>\n      <td>15</td>\n      <td>14</td>\n      <td>498.39</td>\n      <td>54.16</td>\n      <td>0</td>\n      <td>3268.86</td>\n      <td>4</td>\n      <td>8.0</td>\n      <td>0.0</td>\n      <td>0.0</td>\n    </tr>\n    <tr>\n      <th>2</th>\n      <td>3</td>\n      <td>24</td>\n      <td>Platinum</td>\n      <td>West</td>\n      <td>Branch</td>\n      <td>Employed</td>\n      <td>43157.47</td>\n      <td>19</td>\n      <td>5164.62</td>\n      <td>12007.58</td>\n      <td>...</td>\n      <td>14</td>\n      <td>13</td>\n      <td>151.16</td>\n      <td>56.16</td>\n      <td>1</td>\n      <td>4008.94</td>\n      <td>2</td>\n      <td>7.0</td>\n      <td>0.0</td>\n      <td>0.0</td>\n    </tr>\n    <tr>\n      <th>3</th>\n      <td>4</td>\n      <td>39</td>\n      <td>Bronze</td>\n      <td>East</td>\n      <td>Online</td>\n      <td>Self-Employed</td>\n      <td>50095.72</td>\n      <td>92</td>\n      <td>6613.02</td>\n      <td>18061.85</td>\n      <td>...</td>\n      <td>20</td>\n      <td>3</td>\n      <td>328.97</td>\n      <td>57.60</td>\n      <td>1</td>\n      <td>4807.83</td>\n      <td>3</td>\n      <td>4.0</td>\n      <td>0.0</td>\n      <td>0.0</td>\n    </tr>\n    <tr>\n      <th>4</th>\n      <td>5</td>\n      <td>34</td>\n      <td>Bronze</td>\n      <td>West</td>\n      <td>Phone</td>\n      <td>Unemployed</td>\n      <td>59949.10</td>\n      <td>9</td>\n      <td>8528.55</td>\n      <td>19868.64</td>\n      <td>...</td>\n      <td>25</td>\n      <td>3</td>\n      <td>455.50</td>\n      <td>40.94</td>\n      <td>0</td>\n      <td>6766.05</td>\n      <td>2</td>\n      <td>1.0</td>\n      <td>1.0</td>\n      <td>0.0</td>\n    </tr>\n  </tbody>\n</table>\n<p>5 rows × 23 columns</p>\n</div>"
          },
          "metadata": {}
        }
      ],
      "execution_count": 115
    },
    {
      "id": "59afc85f-fb34-488f-9944-4af9b5fe8e6e",
      "cell_type": "code",
      "source": "dataset.info()",
      "metadata": {
        "trusted": true
      },
      "outputs": [
        {
          "name": "stdout",
          "output_type": "stream",
          "text": "<class 'pandas.core.frame.DataFrame'>\nRangeIndex: 1983 entries, 0 to 1982\nData columns (total 23 columns):\n #   Column                 Non-Null Count  Dtype  \n---  ------                 --------------  -----  \n 0   ID                     1983 non-null   int64  \n 1   Age                    1983 non-null   int64  \n 2   Customer_Segment       1983 non-null   object \n 3   Region                 1983 non-null   object \n 4   Preferred_Channel      1983 non-null   object \n 5   Employment_Status      1983 non-null   object \n 6   Annual_Income          1983 non-null   float64\n 7   Spending_Score         1983 non-null   int64  \n 8   Savings_Amount         1983 non-null   float64\n 9   Loan_Amount            1983 non-null   float64\n 10  Years_with_Bank        1983 non-null   int64  \n 11  Transaction_Count      1983 non-null   int64  \n 12  Online_Purchases       1983 non-null   int64  \n 13  In_Person_Purchases    1983 non-null   int64  \n 14  Customer_Tenure        1983 non-null   int64  \n 15  Credit_Score           1983 non-null   float64\n 16  Avg_Transaction_Value  1983 non-null   float64\n 17  Num_Bounced_Checks     1983 non-null   int64  \n 18  Account_Balance        1983 non-null   float64\n 19  Referral_Count         1983 non-null   int64  \n 20  Loyalty_Score          1983 non-null   float64\n 21  Has_Credit_Card        1983 non-null   float64\n 22  Has_Loan               1983 non-null   float64\ndtypes: float64(9), int64(10), object(4)\nmemory usage: 325.4+ KB\n"
        }
      ],
      "execution_count": 116
    },
    {
      "id": "92a7f190-7606-4e3d-afb0-cd324b652307",
      "cell_type": "code",
      "source": "dataset.isnull()\n",
      "metadata": {
        "trusted": true
      },
      "outputs": [
        {
          "execution_count": 117,
          "output_type": "execute_result",
          "data": {
            "text/plain": "         ID    Age  Customer_Segment  Region  Preferred_Channel  \\\n0     False  False             False   False              False   \n1     False  False             False   False              False   \n2     False  False             False   False              False   \n3     False  False             False   False              False   \n4     False  False             False   False              False   \n...     ...    ...               ...     ...                ...   \n1978  False  False             False   False              False   \n1979  False  False             False   False              False   \n1980  False  False             False   False              False   \n1981  False  False             False   False              False   \n1982  False  False             False   False              False   \n\n      Employment_Status  Annual_Income  Spending_Score  Savings_Amount  \\\n0                 False          False           False           False   \n1                 False          False           False           False   \n2                 False          False           False           False   \n3                 False          False           False           False   \n4                 False          False           False           False   \n...                 ...            ...             ...             ...   \n1978              False          False           False           False   \n1979              False          False           False           False   \n1980              False          False           False           False   \n1981              False          False           False           False   \n1982              False          False           False           False   \n\n      Loan_Amount  ...  In_Person_Purchases  Customer_Tenure  Credit_Score  \\\n0           False  ...                False            False         False   \n1           False  ...                False            False         False   \n2           False  ...                False            False         False   \n3           False  ...                False            False         False   \n4           False  ...                False            False         False   \n...           ...  ...                  ...              ...           ...   \n1978        False  ...                False            False         False   \n1979        False  ...                False            False         False   \n1980        False  ...                False            False         False   \n1981        False  ...                False            False         False   \n1982        False  ...                False            False         False   \n\n      Avg_Transaction_Value  Num_Bounced_Checks  Account_Balance  \\\n0                     False               False            False   \n1                     False               False            False   \n2                     False               False            False   \n3                     False               False            False   \n4                     False               False            False   \n...                     ...                 ...              ...   \n1978                  False               False            False   \n1979                  False               False            False   \n1980                  False               False            False   \n1981                  False               False            False   \n1982                  False               False            False   \n\n      Referral_Count  Loyalty_Score  Has_Credit_Card  Has_Loan  \n0              False          False            False     False  \n1              False          False            False     False  \n2              False          False            False     False  \n3              False          False            False     False  \n4              False          False            False     False  \n...              ...            ...              ...       ...  \n1978           False          False            False     False  \n1979           False          False            False     False  \n1980           False          False            False     False  \n1981           False          False            False     False  \n1982           False          False            False     False  \n\n[1983 rows x 23 columns]",
            "text/html": "<div>\n<style scoped>\n    .dataframe tbody tr th:only-of-type {\n        vertical-align: middle;\n    }\n\n    .dataframe tbody tr th {\n        vertical-align: top;\n    }\n\n    .dataframe thead th {\n        text-align: right;\n    }\n</style>\n<table border=\"1\" class=\"dataframe\">\n  <thead>\n    <tr style=\"text-align: right;\">\n      <th></th>\n      <th>ID</th>\n      <th>Age</th>\n      <th>Customer_Segment</th>\n      <th>Region</th>\n      <th>Preferred_Channel</th>\n      <th>Employment_Status</th>\n      <th>Annual_Income</th>\n      <th>Spending_Score</th>\n      <th>Savings_Amount</th>\n      <th>Loan_Amount</th>\n      <th>...</th>\n      <th>In_Person_Purchases</th>\n      <th>Customer_Tenure</th>\n      <th>Credit_Score</th>\n      <th>Avg_Transaction_Value</th>\n      <th>Num_Bounced_Checks</th>\n      <th>Account_Balance</th>\n      <th>Referral_Count</th>\n      <th>Loyalty_Score</th>\n      <th>Has_Credit_Card</th>\n      <th>Has_Loan</th>\n    </tr>\n  </thead>\n  <tbody>\n    <tr>\n      <th>0</th>\n      <td>False</td>\n      <td>False</td>\n      <td>False</td>\n      <td>False</td>\n      <td>False</td>\n      <td>False</td>\n      <td>False</td>\n      <td>False</td>\n      <td>False</td>\n      <td>False</td>\n      <td>...</td>\n      <td>False</td>\n      <td>False</td>\n      <td>False</td>\n      <td>False</td>\n      <td>False</td>\n      <td>False</td>\n      <td>False</td>\n      <td>False</td>\n      <td>False</td>\n      <td>False</td>\n    </tr>\n    <tr>\n      <th>1</th>\n      <td>False</td>\n      <td>False</td>\n      <td>False</td>\n      <td>False</td>\n      <td>False</td>\n      <td>False</td>\n      <td>False</td>\n      <td>False</td>\n      <td>False</td>\n      <td>False</td>\n      <td>...</td>\n      <td>False</td>\n      <td>False</td>\n      <td>False</td>\n      <td>False</td>\n      <td>False</td>\n      <td>False</td>\n      <td>False</td>\n      <td>False</td>\n      <td>False</td>\n      <td>False</td>\n    </tr>\n    <tr>\n      <th>2</th>\n      <td>False</td>\n      <td>False</td>\n      <td>False</td>\n      <td>False</td>\n      <td>False</td>\n      <td>False</td>\n      <td>False</td>\n      <td>False</td>\n      <td>False</td>\n      <td>False</td>\n      <td>...</td>\n      <td>False</td>\n      <td>False</td>\n      <td>False</td>\n      <td>False</td>\n      <td>False</td>\n      <td>False</td>\n      <td>False</td>\n      <td>False</td>\n      <td>False</td>\n      <td>False</td>\n    </tr>\n    <tr>\n      <th>3</th>\n      <td>False</td>\n      <td>False</td>\n      <td>False</td>\n      <td>False</td>\n      <td>False</td>\n      <td>False</td>\n      <td>False</td>\n      <td>False</td>\n      <td>False</td>\n      <td>False</td>\n      <td>...</td>\n      <td>False</td>\n      <td>False</td>\n      <td>False</td>\n      <td>False</td>\n      <td>False</td>\n      <td>False</td>\n      <td>False</td>\n      <td>False</td>\n      <td>False</td>\n      <td>False</td>\n    </tr>\n    <tr>\n      <th>4</th>\n      <td>False</td>\n      <td>False</td>\n      <td>False</td>\n      <td>False</td>\n      <td>False</td>\n      <td>False</td>\n      <td>False</td>\n      <td>False</td>\n      <td>False</td>\n      <td>False</td>\n      <td>...</td>\n      <td>False</td>\n      <td>False</td>\n      <td>False</td>\n      <td>False</td>\n      <td>False</td>\n      <td>False</td>\n      <td>False</td>\n      <td>False</td>\n      <td>False</td>\n      <td>False</td>\n    </tr>\n    <tr>\n      <th>...</th>\n      <td>...</td>\n      <td>...</td>\n      <td>...</td>\n      <td>...</td>\n      <td>...</td>\n      <td>...</td>\n      <td>...</td>\n      <td>...</td>\n      <td>...</td>\n      <td>...</td>\n      <td>...</td>\n      <td>...</td>\n      <td>...</td>\n      <td>...</td>\n      <td>...</td>\n      <td>...</td>\n      <td>...</td>\n      <td>...</td>\n      <td>...</td>\n      <td>...</td>\n      <td>...</td>\n    </tr>\n    <tr>\n      <th>1978</th>\n      <td>False</td>\n      <td>False</td>\n      <td>False</td>\n      <td>False</td>\n      <td>False</td>\n      <td>False</td>\n      <td>False</td>\n      <td>False</td>\n      <td>False</td>\n      <td>False</td>\n      <td>...</td>\n      <td>False</td>\n      <td>False</td>\n      <td>False</td>\n      <td>False</td>\n      <td>False</td>\n      <td>False</td>\n      <td>False</td>\n      <td>False</td>\n      <td>False</td>\n      <td>False</td>\n    </tr>\n    <tr>\n      <th>1979</th>\n      <td>False</td>\n      <td>False</td>\n      <td>False</td>\n      <td>False</td>\n      <td>False</td>\n      <td>False</td>\n      <td>False</td>\n      <td>False</td>\n      <td>False</td>\n      <td>False</td>\n      <td>...</td>\n      <td>False</td>\n      <td>False</td>\n      <td>False</td>\n      <td>False</td>\n      <td>False</td>\n      <td>False</td>\n      <td>False</td>\n      <td>False</td>\n      <td>False</td>\n      <td>False</td>\n    </tr>\n    <tr>\n      <th>1980</th>\n      <td>False</td>\n      <td>False</td>\n      <td>False</td>\n      <td>False</td>\n      <td>False</td>\n      <td>False</td>\n      <td>False</td>\n      <td>False</td>\n      <td>False</td>\n      <td>False</td>\n      <td>...</td>\n      <td>False</td>\n      <td>False</td>\n      <td>False</td>\n      <td>False</td>\n      <td>False</td>\n      <td>False</td>\n      <td>False</td>\n      <td>False</td>\n      <td>False</td>\n      <td>False</td>\n    </tr>\n    <tr>\n      <th>1981</th>\n      <td>False</td>\n      <td>False</td>\n      <td>False</td>\n      <td>False</td>\n      <td>False</td>\n      <td>False</td>\n      <td>False</td>\n      <td>False</td>\n      <td>False</td>\n      <td>False</td>\n      <td>...</td>\n      <td>False</td>\n      <td>False</td>\n      <td>False</td>\n      <td>False</td>\n      <td>False</td>\n      <td>False</td>\n      <td>False</td>\n      <td>False</td>\n      <td>False</td>\n      <td>False</td>\n    </tr>\n    <tr>\n      <th>1982</th>\n      <td>False</td>\n      <td>False</td>\n      <td>False</td>\n      <td>False</td>\n      <td>False</td>\n      <td>False</td>\n      <td>False</td>\n      <td>False</td>\n      <td>False</td>\n      <td>False</td>\n      <td>...</td>\n      <td>False</td>\n      <td>False</td>\n      <td>False</td>\n      <td>False</td>\n      <td>False</td>\n      <td>False</td>\n      <td>False</td>\n      <td>False</td>\n      <td>False</td>\n      <td>False</td>\n    </tr>\n  </tbody>\n</table>\n<p>1983 rows × 23 columns</p>\n</div>"
          },
          "metadata": {}
        }
      ],
      "execution_count": 117
    },
    {
      "id": "5a1fa0a8-ab4c-4d43-bbe5-a4b735af2ac9",
      "cell_type": "code",
      "source": "dataset.isnull().sum()",
      "metadata": {
        "trusted": true
      },
      "outputs": [
        {
          "execution_count": 118,
          "output_type": "execute_result",
          "data": {
            "text/plain": "ID                       0\nAge                      0\nCustomer_Segment         0\nRegion                   0\nPreferred_Channel        0\nEmployment_Status        0\nAnnual_Income            0\nSpending_Score           0\nSavings_Amount           0\nLoan_Amount              0\nYears_with_Bank          0\nTransaction_Count        0\nOnline_Purchases         0\nIn_Person_Purchases      0\nCustomer_Tenure          0\nCredit_Score             0\nAvg_Transaction_Value    0\nNum_Bounced_Checks       0\nAccount_Balance          0\nReferral_Count           0\nLoyalty_Score            0\nHas_Credit_Card          0\nHas_Loan                 0\ndtype: int64"
          },
          "metadata": {}
        }
      ],
      "execution_count": 118
    },
    {
      "id": "00c4687d-fe97-4c67-a405-a5582d44e216",
      "cell_type": "code",
      "source": "(dataset.isnull().sum()/dataset.shape[0])*100",
      "metadata": {
        "trusted": true
      },
      "outputs": [
        {
          "execution_count": 119,
          "output_type": "execute_result",
          "data": {
            "text/plain": "ID                       0.0\nAge                      0.0\nCustomer_Segment         0.0\nRegion                   0.0\nPreferred_Channel        0.0\nEmployment_Status        0.0\nAnnual_Income            0.0\nSpending_Score           0.0\nSavings_Amount           0.0\nLoan_Amount              0.0\nYears_with_Bank          0.0\nTransaction_Count        0.0\nOnline_Purchases         0.0\nIn_Person_Purchases      0.0\nCustomer_Tenure          0.0\nCredit_Score             0.0\nAvg_Transaction_Value    0.0\nNum_Bounced_Checks       0.0\nAccount_Balance          0.0\nReferral_Count           0.0\nLoyalty_Score            0.0\nHas_Credit_Card          0.0\nHas_Loan                 0.0\ndtype: float64"
          },
          "metadata": {}
        }
      ],
      "execution_count": 119
    },
    {
      "id": "3d4ca996-72e2-4300-9eca-3c29443e8616",
      "cell_type": "code",
      "source": "dataset['Customer_Segment']\n",
      "metadata": {
        "trusted": true
      },
      "outputs": [
        {
          "execution_count": 120,
          "output_type": "execute_result",
          "data": {
            "text/plain": "0         Bronze\n1       Platinum\n2       Platinum\n3         Bronze\n4         Bronze\n          ...   \n1978    Platinum\n1979        Gold\n1980      Silver\n1981      Silver\n1982      Bronze\nName: Customer_Segment, Length: 1983, dtype: object"
          },
          "metadata": {}
        }
      ],
      "execution_count": 120
    },
    {
      "id": "7aeefc8b-2640-4b68-bf21-aac7671646a5",
      "cell_type": "code",
      "source": "dataset['Customer_Segment'][0]",
      "metadata": {
        "trusted": true
      },
      "outputs": [
        {
          "execution_count": 121,
          "output_type": "execute_result",
          "data": {
            "text/plain": "'Bronze'"
          },
          "metadata": {}
        }
      ],
      "execution_count": 121
    },
    {
      "id": "7702dc57-3418-4b32-aaf9-2205fb22259b",
      "cell_type": "code",
      "source": "dataset['Customer_Segment'][1]",
      "metadata": {
        "trusted": true
      },
      "outputs": [
        {
          "execution_count": 122,
          "output_type": "execute_result",
          "data": {
            "text/plain": "'Platinum'"
          },
          "metadata": {}
        }
      ],
      "execution_count": 122
    },
    {
      "id": "b512014c-97a5-4a73-a368-358acff330a5",
      "cell_type": "code",
      "source": "dataset['Customer_Segment'][4]",
      "metadata": {
        "trusted": true
      },
      "outputs": [
        {
          "execution_count": 123,
          "output_type": "execute_result",
          "data": {
            "text/plain": "'Bronze'"
          },
          "metadata": {}
        }
      ],
      "execution_count": 123
    },
    {
      "id": "40758ac3-0d61-48c0-86e4-fef947263896",
      "cell_type": "code",
      "source": "x = dataset['Customer_Segment'][4]",
      "metadata": {
        "trusted": true
      },
      "outputs": [],
      "execution_count": 124
    },
    {
      "id": "596a8c9b-46fa-4263-85e0-c2d257ba397b",
      "cell_type": "code",
      "source": "test = pd.read_csv('test.csv')",
      "metadata": {
        "trusted": true
      },
      "outputs": [],
      "execution_count": 125
    },
    {
      "id": "1f780ad0-8217-4e75-a456-3b89cc2eecad",
      "cell_type": "code",
      "source": "train = pd.read_csv('test.csv')",
      "metadata": {
        "trusted": true
      },
      "outputs": [],
      "execution_count": 126
    },
    {
      "id": "c5be6cca-8979-4c50-9f2d-1012d9581acf",
      "cell_type": "code",
      "source": "print(\"\\nshow missing value:\")\nprint(train.isnull().sum()[train.isnull().sum() > 0 ])",
      "metadata": {
        "trusted": true
      },
      "outputs": [
        {
          "name": "stdout",
          "output_type": "stream",
          "text": "\nshow missing value:\nSeries([], dtype: int64)\n"
        }
      ],
      "execution_count": 127
    },
    {
      "id": "efd88df5-ef3e-4e6c-ae06-18ac9aa19887",
      "cell_type": "code",
      "source": "print(\"show duplicates:\")\ntest = test.drop_duplicates()",
      "metadata": {
        "trusted": true
      },
      "outputs": [
        {
          "name": "stdout",
          "output_type": "stream",
          "text": "show duplicates:\n"
        }
      ],
      "execution_count": 128
    },
    {
      "id": "d80b262e-67c6-4bef-9f06-7b22919823b9",
      "cell_type": "code",
      "source": "print(\"show missing value:\")\nprint(test.isnull().sum()[test.isnull().sum() > 0 ])",
      "metadata": {
        "trusted": true
      },
      "outputs": [
        {
          "name": "stdout",
          "output_type": "stream",
          "text": "show missing value:\nSeries([], dtype: int64)\n"
        }
      ],
      "execution_count": 129
    },
    {
      "id": "fb5bbc92-b17f-44a1-b3b2-79e6a2ba93fe",
      "cell_type": "code",
      "source": "missing_values = test.isnull().sum()\nmissing_values = missing_values[missing_values > 0]\nif missing_values.empty :\n    print(\"No missing value seen\", dataset)\nelif missing_values:\n    print(\"missing value found\")",
      "metadata": {
        "trusted": true
      },
      "outputs": [
        {
          "name": "stdout",
          "output_type": "stream",
          "text": "No missing value seen         ID  Age Customer_Segment Region Preferred_Channel Employment_Status  \\\n0        1   27           Bronze   East             Phone           Retired   \n1        2   26         Platinum   West            Online        Unemployed   \n2        3   24         Platinum   West            Branch          Employed   \n3        4   39           Bronze   East            Online     Self-Employed   \n4        5   34           Bronze   West             Phone        Unemployed   \n...    ...  ...              ...    ...               ...               ...   \n1978  1979   44         Platinum  North            Online     Self-Employed   \n1979  1980   30             Gold  North             Phone          Employed   \n1980  1981   19           Silver  North            Online     Self-Employed   \n1981  1982   27           Silver   West             Phone           Retired   \n1982  1983   37           Bronze   East             Phone     Self-Employed   \n\n      Annual_Income  Spending_Score  Savings_Amount  Loan_Amount  ...  \\\n0          32276.50              50         7014.87     17819.23  ...   \n1          46684.36               4         7024.32     32107.05  ...   \n2          43157.47              19         5164.62     12007.58  ...   \n3          50095.72              92         6613.02     18061.85  ...   \n4          59949.10               9         8528.55     19868.64  ...   \n...             ...             ...             ...          ...  ...   \n1978       70493.22              52         9168.38     27492.57  ...   \n1979       66910.25              11         6214.04     21102.00  ...   \n1980       51171.77               7         8703.62     27661.89  ...   \n1981       85394.21              79         6397.21     16022.39  ...   \n1982       62281.49              91         7528.12     31429.83  ...   \n\n      In_Person_Purchases  Customer_Tenure  Credit_Score  \\\n0                      17               11        226.53   \n1                      15               14        498.39   \n2                      14               13        151.16   \n3                      20                3        328.97   \n4                      25                3        455.50   \n...                   ...              ...           ...   \n1978                   17               11        204.51   \n1979                   24                6        383.19   \n1980                   17                5        200.91   \n1981                   22                8        452.94   \n1982                   20                8        194.91   \n\n      Avg_Transaction_Value  Num_Bounced_Checks  Account_Balance  \\\n0                     42.28                   0          4308.42   \n1                     54.16                   0          3268.86   \n2                     56.16                   1          4008.94   \n3                     57.60                   1          4807.83   \n4                     40.94                   0          6766.05   \n...                     ...                 ...              ...   \n1978                  35.84                   0          4999.88   \n1979                  55.73                   0          8459.96   \n1980                  62.05                   0          7811.33   \n1981                  19.58                   0          8264.80   \n1982                  45.32                   0         10752.54   \n\n      Referral_Count  Loyalty_Score  Has_Credit_Card  Has_Loan  \n0                  1            9.0              1.0       0.0  \n1                  4            8.0              0.0       0.0  \n2                  2            7.0              0.0       0.0  \n3                  3            4.0              0.0       0.0  \n4                  2            1.0              1.0       0.0  \n...              ...            ...              ...       ...  \n1978               1            8.0              0.0       0.0  \n1979               1            3.0              1.0       0.0  \n1980               5           10.0              1.0       1.0  \n1981               0            4.0              1.0       1.0  \n1982               4            4.0              1.0       0.0  \n\n[1983 rows x 23 columns]\n"
        }
      ],
      "execution_count": 130
    },
    {
      "id": "e1970044-b01f-4e0c-93d9-82e117136d2f",
      "cell_type": "code",
      "source": "from sklearn.preprocessing import LabelEncoder, StandardScaler",
      "metadata": {
        "trusted": true
      },
      "outputs": [],
      "execution_count": 131
    },
    {
      "id": "6ad346b1-d0b6-4043-ab96-e0d3e8fbbc20",
      "cell_type": "markdown",
      "source": " # Customer_Segment",
      "metadata": {}
    },
    {
      "id": "74dabfb1-7a07-4fcc-add1-c02b561c5634",
      "cell_type": "code",
      "source": "Customer_Segment_en = LabelEncoder()",
      "metadata": {
        "trusted": true
      },
      "outputs": [],
      "execution_count": 142
    },
    {
      "id": "6ceeba69-3f81-462c-93d3-9c4a0068be94",
      "cell_type": "code",
      "source": "Customer_Segment_en = Customer_Segment_en.fit_transform(dataset['Customer_Segment'])",
      "metadata": {
        "trusted": true
      },
      "outputs": [],
      "execution_count": 143
    },
    {
      "id": "c2250d4f-f1af-43b1-a286-2d9511e071b1",
      "cell_type": "code",
      "source": "dataset.head(5)",
      "metadata": {
        "trusted": true
      },
      "outputs": [
        {
          "execution_count": 144,
          "output_type": "execute_result",
          "data": {
            "text/plain": "   ID  Age Customer_Segment Region Preferred_Channel Employment_Status  \\\n0   1   27           Bronze   East             Phone           Retired   \n1   2   26         Platinum   West            Online        Unemployed   \n2   3   24         Platinum   West            Branch          Employed   \n3   4   39           Bronze   East            Online     Self-Employed   \n4   5   34           Bronze   West             Phone        Unemployed   \n\n   Annual_Income  Spending_Score  Savings_Amount  Loan_Amount  ...  \\\n0       32276.50              50         7014.87     17819.23  ...   \n1       46684.36               4         7024.32     32107.05  ...   \n2       43157.47              19         5164.62     12007.58  ...   \n3       50095.72              92         6613.02     18061.85  ...   \n4       59949.10               9         8528.55     19868.64  ...   \n\n   In_Person_Purchases  Customer_Tenure  Credit_Score  Avg_Transaction_Value  \\\n0                   17               11        226.53                  42.28   \n1                   15               14        498.39                  54.16   \n2                   14               13        151.16                  56.16   \n3                   20                3        328.97                  57.60   \n4                   25                3        455.50                  40.94   \n\n   Num_Bounced_Checks  Account_Balance  Referral_Count  Loyalty_Score  \\\n0                   0          4308.42               1            9.0   \n1                   0          3268.86               4            8.0   \n2                   1          4008.94               2            7.0   \n3                   1          4807.83               3            4.0   \n4                   0          6766.05               2            1.0   \n\n   Has_Credit_Card  Has_Loan  \n0              1.0       0.0  \n1              0.0       0.0  \n2              0.0       0.0  \n3              0.0       0.0  \n4              1.0       0.0  \n\n[5 rows x 23 columns]",
            "text/html": "<div>\n<style scoped>\n    .dataframe tbody tr th:only-of-type {\n        vertical-align: middle;\n    }\n\n    .dataframe tbody tr th {\n        vertical-align: top;\n    }\n\n    .dataframe thead th {\n        text-align: right;\n    }\n</style>\n<table border=\"1\" class=\"dataframe\">\n  <thead>\n    <tr style=\"text-align: right;\">\n      <th></th>\n      <th>ID</th>\n      <th>Age</th>\n      <th>Customer_Segment</th>\n      <th>Region</th>\n      <th>Preferred_Channel</th>\n      <th>Employment_Status</th>\n      <th>Annual_Income</th>\n      <th>Spending_Score</th>\n      <th>Savings_Amount</th>\n      <th>Loan_Amount</th>\n      <th>...</th>\n      <th>In_Person_Purchases</th>\n      <th>Customer_Tenure</th>\n      <th>Credit_Score</th>\n      <th>Avg_Transaction_Value</th>\n      <th>Num_Bounced_Checks</th>\n      <th>Account_Balance</th>\n      <th>Referral_Count</th>\n      <th>Loyalty_Score</th>\n      <th>Has_Credit_Card</th>\n      <th>Has_Loan</th>\n    </tr>\n  </thead>\n  <tbody>\n    <tr>\n      <th>0</th>\n      <td>1</td>\n      <td>27</td>\n      <td>Bronze</td>\n      <td>East</td>\n      <td>Phone</td>\n      <td>Retired</td>\n      <td>32276.50</td>\n      <td>50</td>\n      <td>7014.87</td>\n      <td>17819.23</td>\n      <td>...</td>\n      <td>17</td>\n      <td>11</td>\n      <td>226.53</td>\n      <td>42.28</td>\n      <td>0</td>\n      <td>4308.42</td>\n      <td>1</td>\n      <td>9.0</td>\n      <td>1.0</td>\n      <td>0.0</td>\n    </tr>\n    <tr>\n      <th>1</th>\n      <td>2</td>\n      <td>26</td>\n      <td>Platinum</td>\n      <td>West</td>\n      <td>Online</td>\n      <td>Unemployed</td>\n      <td>46684.36</td>\n      <td>4</td>\n      <td>7024.32</td>\n      <td>32107.05</td>\n      <td>...</td>\n      <td>15</td>\n      <td>14</td>\n      <td>498.39</td>\n      <td>54.16</td>\n      <td>0</td>\n      <td>3268.86</td>\n      <td>4</td>\n      <td>8.0</td>\n      <td>0.0</td>\n      <td>0.0</td>\n    </tr>\n    <tr>\n      <th>2</th>\n      <td>3</td>\n      <td>24</td>\n      <td>Platinum</td>\n      <td>West</td>\n      <td>Branch</td>\n      <td>Employed</td>\n      <td>43157.47</td>\n      <td>19</td>\n      <td>5164.62</td>\n      <td>12007.58</td>\n      <td>...</td>\n      <td>14</td>\n      <td>13</td>\n      <td>151.16</td>\n      <td>56.16</td>\n      <td>1</td>\n      <td>4008.94</td>\n      <td>2</td>\n      <td>7.0</td>\n      <td>0.0</td>\n      <td>0.0</td>\n    </tr>\n    <tr>\n      <th>3</th>\n      <td>4</td>\n      <td>39</td>\n      <td>Bronze</td>\n      <td>East</td>\n      <td>Online</td>\n      <td>Self-Employed</td>\n      <td>50095.72</td>\n      <td>92</td>\n      <td>6613.02</td>\n      <td>18061.85</td>\n      <td>...</td>\n      <td>20</td>\n      <td>3</td>\n      <td>328.97</td>\n      <td>57.60</td>\n      <td>1</td>\n      <td>4807.83</td>\n      <td>3</td>\n      <td>4.0</td>\n      <td>0.0</td>\n      <td>0.0</td>\n    </tr>\n    <tr>\n      <th>4</th>\n      <td>5</td>\n      <td>34</td>\n      <td>Bronze</td>\n      <td>West</td>\n      <td>Phone</td>\n      <td>Unemployed</td>\n      <td>59949.10</td>\n      <td>9</td>\n      <td>8528.55</td>\n      <td>19868.64</td>\n      <td>...</td>\n      <td>25</td>\n      <td>3</td>\n      <td>455.50</td>\n      <td>40.94</td>\n      <td>0</td>\n      <td>6766.05</td>\n      <td>2</td>\n      <td>1.0</td>\n      <td>1.0</td>\n      <td>0.0</td>\n    </tr>\n  </tbody>\n</table>\n<p>5 rows × 23 columns</p>\n</div>"
          },
          "metadata": {}
        }
      ],
      "execution_count": 144
    },
    {
      "id": "0d75464a-cab4-4230-8cfc-483dc34f88f9",
      "cell_type": "code",
      "source": "Customer_Segment_en = LabelEncoder()\ndataset['Customer_Segment'] = Customer_Segment_en.fit_transform(dataset['Customer_Segment'])",
      "metadata": {
        "trusted": true
      },
      "outputs": [],
      "execution_count": 150
    },
    {
      "id": "eca0ad73-cb07-4bfc-9393-87e22b174399",
      "cell_type": "code",
      "source": "dataset.head(5)",
      "metadata": {
        "trusted": true
      },
      "outputs": [
        {
          "execution_count": 151,
          "output_type": "execute_result",
          "data": {
            "text/plain": "   ID  Age  Customer_Segment Region Preferred_Channel Employment_Status  \\\n0   1   27                 0   East             Phone           Retired   \n1   2   26                 2   West            Online        Unemployed   \n2   3   24                 2   West            Branch          Employed   \n3   4   39                 0   East            Online     Self-Employed   \n4   5   34                 0   West             Phone        Unemployed   \n\n   Annual_Income  Spending_Score  Savings_Amount  Loan_Amount  ...  \\\n0       32276.50              50         7014.87     17819.23  ...   \n1       46684.36               4         7024.32     32107.05  ...   \n2       43157.47              19         5164.62     12007.58  ...   \n3       50095.72              92         6613.02     18061.85  ...   \n4       59949.10               9         8528.55     19868.64  ...   \n\n   In_Person_Purchases  Customer_Tenure  Credit_Score  Avg_Transaction_Value  \\\n0                   17               11        226.53                  42.28   \n1                   15               14        498.39                  54.16   \n2                   14               13        151.16                  56.16   \n3                   20                3        328.97                  57.60   \n4                   25                3        455.50                  40.94   \n\n   Num_Bounced_Checks  Account_Balance  Referral_Count  Loyalty_Score  \\\n0                   0          4308.42               1            9.0   \n1                   0          3268.86               4            8.0   \n2                   1          4008.94               2            7.0   \n3                   1          4807.83               3            4.0   \n4                   0          6766.05               2            1.0   \n\n   Has_Credit_Card  Has_Loan  \n0              1.0       0.0  \n1              0.0       0.0  \n2              0.0       0.0  \n3              0.0       0.0  \n4              1.0       0.0  \n\n[5 rows x 23 columns]",
            "text/html": "<div>\n<style scoped>\n    .dataframe tbody tr th:only-of-type {\n        vertical-align: middle;\n    }\n\n    .dataframe tbody tr th {\n        vertical-align: top;\n    }\n\n    .dataframe thead th {\n        text-align: right;\n    }\n</style>\n<table border=\"1\" class=\"dataframe\">\n  <thead>\n    <tr style=\"text-align: right;\">\n      <th></th>\n      <th>ID</th>\n      <th>Age</th>\n      <th>Customer_Segment</th>\n      <th>Region</th>\n      <th>Preferred_Channel</th>\n      <th>Employment_Status</th>\n      <th>Annual_Income</th>\n      <th>Spending_Score</th>\n      <th>Savings_Amount</th>\n      <th>Loan_Amount</th>\n      <th>...</th>\n      <th>In_Person_Purchases</th>\n      <th>Customer_Tenure</th>\n      <th>Credit_Score</th>\n      <th>Avg_Transaction_Value</th>\n      <th>Num_Bounced_Checks</th>\n      <th>Account_Balance</th>\n      <th>Referral_Count</th>\n      <th>Loyalty_Score</th>\n      <th>Has_Credit_Card</th>\n      <th>Has_Loan</th>\n    </tr>\n  </thead>\n  <tbody>\n    <tr>\n      <th>0</th>\n      <td>1</td>\n      <td>27</td>\n      <td>0</td>\n      <td>East</td>\n      <td>Phone</td>\n      <td>Retired</td>\n      <td>32276.50</td>\n      <td>50</td>\n      <td>7014.87</td>\n      <td>17819.23</td>\n      <td>...</td>\n      <td>17</td>\n      <td>11</td>\n      <td>226.53</td>\n      <td>42.28</td>\n      <td>0</td>\n      <td>4308.42</td>\n      <td>1</td>\n      <td>9.0</td>\n      <td>1.0</td>\n      <td>0.0</td>\n    </tr>\n    <tr>\n      <th>1</th>\n      <td>2</td>\n      <td>26</td>\n      <td>2</td>\n      <td>West</td>\n      <td>Online</td>\n      <td>Unemployed</td>\n      <td>46684.36</td>\n      <td>4</td>\n      <td>7024.32</td>\n      <td>32107.05</td>\n      <td>...</td>\n      <td>15</td>\n      <td>14</td>\n      <td>498.39</td>\n      <td>54.16</td>\n      <td>0</td>\n      <td>3268.86</td>\n      <td>4</td>\n      <td>8.0</td>\n      <td>0.0</td>\n      <td>0.0</td>\n    </tr>\n    <tr>\n      <th>2</th>\n      <td>3</td>\n      <td>24</td>\n      <td>2</td>\n      <td>West</td>\n      <td>Branch</td>\n      <td>Employed</td>\n      <td>43157.47</td>\n      <td>19</td>\n      <td>5164.62</td>\n      <td>12007.58</td>\n      <td>...</td>\n      <td>14</td>\n      <td>13</td>\n      <td>151.16</td>\n      <td>56.16</td>\n      <td>1</td>\n      <td>4008.94</td>\n      <td>2</td>\n      <td>7.0</td>\n      <td>0.0</td>\n      <td>0.0</td>\n    </tr>\n    <tr>\n      <th>3</th>\n      <td>4</td>\n      <td>39</td>\n      <td>0</td>\n      <td>East</td>\n      <td>Online</td>\n      <td>Self-Employed</td>\n      <td>50095.72</td>\n      <td>92</td>\n      <td>6613.02</td>\n      <td>18061.85</td>\n      <td>...</td>\n      <td>20</td>\n      <td>3</td>\n      <td>328.97</td>\n      <td>57.60</td>\n      <td>1</td>\n      <td>4807.83</td>\n      <td>3</td>\n      <td>4.0</td>\n      <td>0.0</td>\n      <td>0.0</td>\n    </tr>\n    <tr>\n      <th>4</th>\n      <td>5</td>\n      <td>34</td>\n      <td>0</td>\n      <td>West</td>\n      <td>Phone</td>\n      <td>Unemployed</td>\n      <td>59949.10</td>\n      <td>9</td>\n      <td>8528.55</td>\n      <td>19868.64</td>\n      <td>...</td>\n      <td>25</td>\n      <td>3</td>\n      <td>455.50</td>\n      <td>40.94</td>\n      <td>0</td>\n      <td>6766.05</td>\n      <td>2</td>\n      <td>1.0</td>\n      <td>1.0</td>\n      <td>0.0</td>\n    </tr>\n  </tbody>\n</table>\n<p>5 rows × 23 columns</p>\n</div>"
          },
          "metadata": {}
        }
      ],
      "execution_count": 151
    },
    {
      "id": "db4d76d4-9cc8-43fb-8c3b-3b8b906f1475",
      "cell_type": "code",
      "source": "Customer_Segment_en.fit_transform(dataset['Customer_Segment'])",
      "metadata": {
        "trusted": true
      },
      "outputs": [
        {
          "execution_count": 152,
          "output_type": "execute_result",
          "data": {
            "text/plain": "array([0, 2, 2, ..., 3, 3, 0])"
          },
          "metadata": {}
        }
      ],
      "execution_count": 152
    },
    {
      "id": "d1929af3-aed3-4173-9268-2762b4403aba",
      "cell_type": "code",
      "source": "dataset.head(20)",
      "metadata": {
        "trusted": true
      },
      "outputs": [
        {
          "execution_count": 153,
          "output_type": "execute_result",
          "data": {
            "text/plain": "    ID  Age  Customer_Segment Region Preferred_Channel Employment_Status  \\\n0    1   27                 0   East             Phone           Retired   \n1    2   26                 2   West            Online        Unemployed   \n2    3   24                 2   West            Branch          Employed   \n3    4   39                 0   East            Online     Self-Employed   \n4    5   34                 0   West             Phone        Unemployed   \n5    6   42                 0  North             Phone          Employed   \n6    7   34                 1  North            Branch        Unemployed   \n7    8   21                 1  North            Online          Employed   \n8    9   25                 2  North            Branch     Self-Employed   \n9   10   43                 1   West             Phone        Unemployed   \n10  11   49                 3  North            Branch          Employed   \n11  12   34                 2   West            Online          Employed   \n12  13   22                 1  South            Online     Self-Employed   \n13  14   43                 0   West            Branch     Self-Employed   \n14  15   30                 3  North             Phone          Employed   \n15  16   63                 0  South             Phone          Employed   \n16  17   46                 2   East            Branch           Retired   \n17  18   41                 0   West            Online           Retired   \n18  19   28                 1  North            Online        Unemployed   \n19  20   51                 1  North            Online        Unemployed   \n\n    Annual_Income  Spending_Score  Savings_Amount  Loan_Amount  ...  \\\n0        32276.50              50         7014.87     17819.23  ...   \n1        46684.36               4         7024.32     32107.05  ...   \n2        43157.47              19         5164.62     12007.58  ...   \n3        50095.72              92         6613.02     18061.85  ...   \n4        59949.10               9         8528.55     19868.64  ...   \n5        58213.10              24        13166.84     30051.91  ...   \n6        80811.43              80         9214.26      8602.54  ...   \n7        62988.09              90        17552.78      4341.32  ...   \n8        61301.26              21        20377.79     11484.24  ...   \n9        79071.42              54        14772.21     26288.25  ...   \n10       59166.06              25            0.00     12721.70  ...   \n11       62557.32              20            0.00     31292.90  ...   \n12       49669.55              37         4656.97     13933.24  ...   \n13       29418.81              41        18394.32     14977.52  ...   \n14       62965.87              87        18670.52     15058.21  ...   \n15       42953.53              58         9767.69     24898.70  ...   \n16       23626.87              37         7345.54     22098.03  ...   \n17       43422.13               8         8905.41     43376.87  ...   \n18       72809.60               2         6240.49     35131.76  ...   \n19       51198.73              79         3007.17     13598.84  ...   \n\n    In_Person_Purchases  Customer_Tenure  Credit_Score  Avg_Transaction_Value  \\\n0                    17               11        226.53                  42.28   \n1                    15               14        498.39                  54.16   \n2                    14               13        151.16                  56.16   \n3                    20                3        328.97                  57.60   \n4                    25                3        455.50                  40.94   \n5                    21                7        320.02                  56.30   \n6                    22                1        150.42                   5.00   \n7                    12                9        207.07                  43.58   \n8                    22               11        500.63                   5.00   \n9                    22                1        212.26                  57.08   \n10                   28                2        373.23                  43.51   \n11                   17                8        257.54                  37.92   \n12                   26                2        523.07                  45.87   \n13                   29                8        295.17                  71.37   \n14                   16                5        243.97                  27.60   \n15                   21                7        298.79                  46.66   \n16                   19               10         50.46                  16.72   \n17                   14                5         28.27                   6.87   \n18                   17                1        335.02                  18.98   \n19                   15               12        419.14                  72.57   \n\n    Num_Bounced_Checks  Account_Balance  Referral_Count  Loyalty_Score  \\\n0                    0          4308.42               1            9.0   \n1                    0          3268.86               4            8.0   \n2                    1          4008.94               2            7.0   \n3                    1          4807.83               3            4.0   \n4                    0          6766.05               2            1.0   \n5                    0          2924.62               5           10.0   \n6                    0          2204.31               2            7.0   \n7                    0          6905.62               0            6.0   \n8                    0          8368.28               2            6.0   \n9                    0          7602.33               0            5.0   \n10                   0          6952.22               0            6.0   \n11                   0          3854.45               1            4.0   \n12                   0         11999.22               1           10.0   \n13                   0          3859.11               2            9.0   \n14                   0          3211.17               3            2.0   \n15                   0          6665.21               0            8.0   \n16                   0          5312.47               2            7.0   \n17                   1          4241.68               6            8.0   \n18                   0          5542.46               2            8.0   \n19                   1          3586.31               3            7.0   \n\n    Has_Credit_Card  Has_Loan  \n0               1.0       0.0  \n1               0.0       0.0  \n2               0.0       0.0  \n3               0.0       0.0  \n4               1.0       0.0  \n5               1.0       0.0  \n6               1.0       1.0  \n7               0.0       0.0  \n8               0.0       1.0  \n9               1.0       1.0  \n10              0.0       0.0  \n11              1.0       0.0  \n12              0.0       1.0  \n13              1.0       0.0  \n14              1.0       0.0  \n15              1.0       0.0  \n16              1.0       1.0  \n17              1.0       0.0  \n18              0.0       0.0  \n19              1.0       0.0  \n\n[20 rows x 23 columns]",
            "text/html": "<div>\n<style scoped>\n    .dataframe tbody tr th:only-of-type {\n        vertical-align: middle;\n    }\n\n    .dataframe tbody tr th {\n        vertical-align: top;\n    }\n\n    .dataframe thead th {\n        text-align: right;\n    }\n</style>\n<table border=\"1\" class=\"dataframe\">\n  <thead>\n    <tr style=\"text-align: right;\">\n      <th></th>\n      <th>ID</th>\n      <th>Age</th>\n      <th>Customer_Segment</th>\n      <th>Region</th>\n      <th>Preferred_Channel</th>\n      <th>Employment_Status</th>\n      <th>Annual_Income</th>\n      <th>Spending_Score</th>\n      <th>Savings_Amount</th>\n      <th>Loan_Amount</th>\n      <th>...</th>\n      <th>In_Person_Purchases</th>\n      <th>Customer_Tenure</th>\n      <th>Credit_Score</th>\n      <th>Avg_Transaction_Value</th>\n      <th>Num_Bounced_Checks</th>\n      <th>Account_Balance</th>\n      <th>Referral_Count</th>\n      <th>Loyalty_Score</th>\n      <th>Has_Credit_Card</th>\n      <th>Has_Loan</th>\n    </tr>\n  </thead>\n  <tbody>\n    <tr>\n      <th>0</th>\n      <td>1</td>\n      <td>27</td>\n      <td>0</td>\n      <td>East</td>\n      <td>Phone</td>\n      <td>Retired</td>\n      <td>32276.50</td>\n      <td>50</td>\n      <td>7014.87</td>\n      <td>17819.23</td>\n      <td>...</td>\n      <td>17</td>\n      <td>11</td>\n      <td>226.53</td>\n      <td>42.28</td>\n      <td>0</td>\n      <td>4308.42</td>\n      <td>1</td>\n      <td>9.0</td>\n      <td>1.0</td>\n      <td>0.0</td>\n    </tr>\n    <tr>\n      <th>1</th>\n      <td>2</td>\n      <td>26</td>\n      <td>2</td>\n      <td>West</td>\n      <td>Online</td>\n      <td>Unemployed</td>\n      <td>46684.36</td>\n      <td>4</td>\n      <td>7024.32</td>\n      <td>32107.05</td>\n      <td>...</td>\n      <td>15</td>\n      <td>14</td>\n      <td>498.39</td>\n      <td>54.16</td>\n      <td>0</td>\n      <td>3268.86</td>\n      <td>4</td>\n      <td>8.0</td>\n      <td>0.0</td>\n      <td>0.0</td>\n    </tr>\n    <tr>\n      <th>2</th>\n      <td>3</td>\n      <td>24</td>\n      <td>2</td>\n      <td>West</td>\n      <td>Branch</td>\n      <td>Employed</td>\n      <td>43157.47</td>\n      <td>19</td>\n      <td>5164.62</td>\n      <td>12007.58</td>\n      <td>...</td>\n      <td>14</td>\n      <td>13</td>\n      <td>151.16</td>\n      <td>56.16</td>\n      <td>1</td>\n      <td>4008.94</td>\n      <td>2</td>\n      <td>7.0</td>\n      <td>0.0</td>\n      <td>0.0</td>\n    </tr>\n    <tr>\n      <th>3</th>\n      <td>4</td>\n      <td>39</td>\n      <td>0</td>\n      <td>East</td>\n      <td>Online</td>\n      <td>Self-Employed</td>\n      <td>50095.72</td>\n      <td>92</td>\n      <td>6613.02</td>\n      <td>18061.85</td>\n      <td>...</td>\n      <td>20</td>\n      <td>3</td>\n      <td>328.97</td>\n      <td>57.60</td>\n      <td>1</td>\n      <td>4807.83</td>\n      <td>3</td>\n      <td>4.0</td>\n      <td>0.0</td>\n      <td>0.0</td>\n    </tr>\n    <tr>\n      <th>4</th>\n      <td>5</td>\n      <td>34</td>\n      <td>0</td>\n      <td>West</td>\n      <td>Phone</td>\n      <td>Unemployed</td>\n      <td>59949.10</td>\n      <td>9</td>\n      <td>8528.55</td>\n      <td>19868.64</td>\n      <td>...</td>\n      <td>25</td>\n      <td>3</td>\n      <td>455.50</td>\n      <td>40.94</td>\n      <td>0</td>\n      <td>6766.05</td>\n      <td>2</td>\n      <td>1.0</td>\n      <td>1.0</td>\n      <td>0.0</td>\n    </tr>\n    <tr>\n      <th>5</th>\n      <td>6</td>\n      <td>42</td>\n      <td>0</td>\n      <td>North</td>\n      <td>Phone</td>\n      <td>Employed</td>\n      <td>58213.10</td>\n      <td>24</td>\n      <td>13166.84</td>\n      <td>30051.91</td>\n      <td>...</td>\n      <td>21</td>\n      <td>7</td>\n      <td>320.02</td>\n      <td>56.30</td>\n      <td>0</td>\n      <td>2924.62</td>\n      <td>5</td>\n      <td>10.0</td>\n      <td>1.0</td>\n      <td>0.0</td>\n    </tr>\n    <tr>\n      <th>6</th>\n      <td>7</td>\n      <td>34</td>\n      <td>1</td>\n      <td>North</td>\n      <td>Branch</td>\n      <td>Unemployed</td>\n      <td>80811.43</td>\n      <td>80</td>\n      <td>9214.26</td>\n      <td>8602.54</td>\n      <td>...</td>\n      <td>22</td>\n      <td>1</td>\n      <td>150.42</td>\n      <td>5.00</td>\n      <td>0</td>\n      <td>2204.31</td>\n      <td>2</td>\n      <td>7.0</td>\n      <td>1.0</td>\n      <td>1.0</td>\n    </tr>\n    <tr>\n      <th>7</th>\n      <td>8</td>\n      <td>21</td>\n      <td>1</td>\n      <td>North</td>\n      <td>Online</td>\n      <td>Employed</td>\n      <td>62988.09</td>\n      <td>90</td>\n      <td>17552.78</td>\n      <td>4341.32</td>\n      <td>...</td>\n      <td>12</td>\n      <td>9</td>\n      <td>207.07</td>\n      <td>43.58</td>\n      <td>0</td>\n      <td>6905.62</td>\n      <td>0</td>\n      <td>6.0</td>\n      <td>0.0</td>\n      <td>0.0</td>\n    </tr>\n    <tr>\n      <th>8</th>\n      <td>9</td>\n      <td>25</td>\n      <td>2</td>\n      <td>North</td>\n      <td>Branch</td>\n      <td>Self-Employed</td>\n      <td>61301.26</td>\n      <td>21</td>\n      <td>20377.79</td>\n      <td>11484.24</td>\n      <td>...</td>\n      <td>22</td>\n      <td>11</td>\n      <td>500.63</td>\n      <td>5.00</td>\n      <td>0</td>\n      <td>8368.28</td>\n      <td>2</td>\n      <td>6.0</td>\n      <td>0.0</td>\n      <td>1.0</td>\n    </tr>\n    <tr>\n      <th>9</th>\n      <td>10</td>\n      <td>43</td>\n      <td>1</td>\n      <td>West</td>\n      <td>Phone</td>\n      <td>Unemployed</td>\n      <td>79071.42</td>\n      <td>54</td>\n      <td>14772.21</td>\n      <td>26288.25</td>\n      <td>...</td>\n      <td>22</td>\n      <td>1</td>\n      <td>212.26</td>\n      <td>57.08</td>\n      <td>0</td>\n      <td>7602.33</td>\n      <td>0</td>\n      <td>5.0</td>\n      <td>1.0</td>\n      <td>1.0</td>\n    </tr>\n    <tr>\n      <th>10</th>\n      <td>11</td>\n      <td>49</td>\n      <td>3</td>\n      <td>North</td>\n      <td>Branch</td>\n      <td>Employed</td>\n      <td>59166.06</td>\n      <td>25</td>\n      <td>0.00</td>\n      <td>12721.70</td>\n      <td>...</td>\n      <td>28</td>\n      <td>2</td>\n      <td>373.23</td>\n      <td>43.51</td>\n      <td>0</td>\n      <td>6952.22</td>\n      <td>0</td>\n      <td>6.0</td>\n      <td>0.0</td>\n      <td>0.0</td>\n    </tr>\n    <tr>\n      <th>11</th>\n      <td>12</td>\n      <td>34</td>\n      <td>2</td>\n      <td>West</td>\n      <td>Online</td>\n      <td>Employed</td>\n      <td>62557.32</td>\n      <td>20</td>\n      <td>0.00</td>\n      <td>31292.90</td>\n      <td>...</td>\n      <td>17</td>\n      <td>8</td>\n      <td>257.54</td>\n      <td>37.92</td>\n      <td>0</td>\n      <td>3854.45</td>\n      <td>1</td>\n      <td>4.0</td>\n      <td>1.0</td>\n      <td>0.0</td>\n    </tr>\n    <tr>\n      <th>12</th>\n      <td>13</td>\n      <td>22</td>\n      <td>1</td>\n      <td>South</td>\n      <td>Online</td>\n      <td>Self-Employed</td>\n      <td>49669.55</td>\n      <td>37</td>\n      <td>4656.97</td>\n      <td>13933.24</td>\n      <td>...</td>\n      <td>26</td>\n      <td>2</td>\n      <td>523.07</td>\n      <td>45.87</td>\n      <td>0</td>\n      <td>11999.22</td>\n      <td>1</td>\n      <td>10.0</td>\n      <td>0.0</td>\n      <td>1.0</td>\n    </tr>\n    <tr>\n      <th>13</th>\n      <td>14</td>\n      <td>43</td>\n      <td>0</td>\n      <td>West</td>\n      <td>Branch</td>\n      <td>Self-Employed</td>\n      <td>29418.81</td>\n      <td>41</td>\n      <td>18394.32</td>\n      <td>14977.52</td>\n      <td>...</td>\n      <td>29</td>\n      <td>8</td>\n      <td>295.17</td>\n      <td>71.37</td>\n      <td>0</td>\n      <td>3859.11</td>\n      <td>2</td>\n      <td>9.0</td>\n      <td>1.0</td>\n      <td>0.0</td>\n    </tr>\n    <tr>\n      <th>14</th>\n      <td>15</td>\n      <td>30</td>\n      <td>3</td>\n      <td>North</td>\n      <td>Phone</td>\n      <td>Employed</td>\n      <td>62965.87</td>\n      <td>87</td>\n      <td>18670.52</td>\n      <td>15058.21</td>\n      <td>...</td>\n      <td>16</td>\n      <td>5</td>\n      <td>243.97</td>\n      <td>27.60</td>\n      <td>0</td>\n      <td>3211.17</td>\n      <td>3</td>\n      <td>2.0</td>\n      <td>1.0</td>\n      <td>0.0</td>\n    </tr>\n    <tr>\n      <th>15</th>\n      <td>16</td>\n      <td>63</td>\n      <td>0</td>\n      <td>South</td>\n      <td>Phone</td>\n      <td>Employed</td>\n      <td>42953.53</td>\n      <td>58</td>\n      <td>9767.69</td>\n      <td>24898.70</td>\n      <td>...</td>\n      <td>21</td>\n      <td>7</td>\n      <td>298.79</td>\n      <td>46.66</td>\n      <td>0</td>\n      <td>6665.21</td>\n      <td>0</td>\n      <td>8.0</td>\n      <td>1.0</td>\n      <td>0.0</td>\n    </tr>\n    <tr>\n      <th>16</th>\n      <td>17</td>\n      <td>46</td>\n      <td>2</td>\n      <td>East</td>\n      <td>Branch</td>\n      <td>Retired</td>\n      <td>23626.87</td>\n      <td>37</td>\n      <td>7345.54</td>\n      <td>22098.03</td>\n      <td>...</td>\n      <td>19</td>\n      <td>10</td>\n      <td>50.46</td>\n      <td>16.72</td>\n      <td>0</td>\n      <td>5312.47</td>\n      <td>2</td>\n      <td>7.0</td>\n      <td>1.0</td>\n      <td>1.0</td>\n    </tr>\n    <tr>\n      <th>17</th>\n      <td>18</td>\n      <td>41</td>\n      <td>0</td>\n      <td>West</td>\n      <td>Online</td>\n      <td>Retired</td>\n      <td>43422.13</td>\n      <td>8</td>\n      <td>8905.41</td>\n      <td>43376.87</td>\n      <td>...</td>\n      <td>14</td>\n      <td>5</td>\n      <td>28.27</td>\n      <td>6.87</td>\n      <td>1</td>\n      <td>4241.68</td>\n      <td>6</td>\n      <td>8.0</td>\n      <td>1.0</td>\n      <td>0.0</td>\n    </tr>\n    <tr>\n      <th>18</th>\n      <td>19</td>\n      <td>28</td>\n      <td>1</td>\n      <td>North</td>\n      <td>Online</td>\n      <td>Unemployed</td>\n      <td>72809.60</td>\n      <td>2</td>\n      <td>6240.49</td>\n      <td>35131.76</td>\n      <td>...</td>\n      <td>17</td>\n      <td>1</td>\n      <td>335.02</td>\n      <td>18.98</td>\n      <td>0</td>\n      <td>5542.46</td>\n      <td>2</td>\n      <td>8.0</td>\n      <td>0.0</td>\n      <td>0.0</td>\n    </tr>\n    <tr>\n      <th>19</th>\n      <td>20</td>\n      <td>51</td>\n      <td>1</td>\n      <td>North</td>\n      <td>Online</td>\n      <td>Unemployed</td>\n      <td>51198.73</td>\n      <td>79</td>\n      <td>3007.17</td>\n      <td>13598.84</td>\n      <td>...</td>\n      <td>15</td>\n      <td>12</td>\n      <td>419.14</td>\n      <td>72.57</td>\n      <td>1</td>\n      <td>3586.31</td>\n      <td>3</td>\n      <td>7.0</td>\n      <td>1.0</td>\n      <td>0.0</td>\n    </tr>\n  </tbody>\n</table>\n<p>20 rows × 23 columns</p>\n</div>"
          },
          "metadata": {}
        }
      ],
      "execution_count": 153
    },
    {
      "id": "7917a446-20d3-46f5-86d0-466da9c932f0",
      "cell_type": "markdown",
      "source": "# Region",
      "metadata": {}
    },
    {
      "id": "37cb9c22-4a02-4a2f-82bc-9e8007e2ad82",
      "cell_type": "code",
      "source": "Region_en = LabelEncoder()\ndataset['Region'] = Region_en.fit_transform(dataset['Region'])",
      "metadata": {
        "trusted": true
      },
      "outputs": [],
      "execution_count": 154
    },
    {
      "id": "511f8321-737d-4017-9f38-8dd7698623a2",
      "cell_type": "code",
      "source": "dataset.head(10)",
      "metadata": {
        "trusted": true
      },
      "outputs": [
        {
          "execution_count": 155,
          "output_type": "execute_result",
          "data": {
            "text/plain": "   ID  Age  Customer_Segment  Region Preferred_Channel Employment_Status  \\\n0   1   27                 0       0             Phone           Retired   \n1   2   26                 2       3            Online        Unemployed   \n2   3   24                 2       3            Branch          Employed   \n3   4   39                 0       0            Online     Self-Employed   \n4   5   34                 0       3             Phone        Unemployed   \n5   6   42                 0       1             Phone          Employed   \n6   7   34                 1       1            Branch        Unemployed   \n7   8   21                 1       1            Online          Employed   \n8   9   25                 2       1            Branch     Self-Employed   \n9  10   43                 1       3             Phone        Unemployed   \n\n   Annual_Income  Spending_Score  Savings_Amount  Loan_Amount  ...  \\\n0       32276.50              50         7014.87     17819.23  ...   \n1       46684.36               4         7024.32     32107.05  ...   \n2       43157.47              19         5164.62     12007.58  ...   \n3       50095.72              92         6613.02     18061.85  ...   \n4       59949.10               9         8528.55     19868.64  ...   \n5       58213.10              24        13166.84     30051.91  ...   \n6       80811.43              80         9214.26      8602.54  ...   \n7       62988.09              90        17552.78      4341.32  ...   \n8       61301.26              21        20377.79     11484.24  ...   \n9       79071.42              54        14772.21     26288.25  ...   \n\n   In_Person_Purchases  Customer_Tenure  Credit_Score  Avg_Transaction_Value  \\\n0                   17               11        226.53                  42.28   \n1                   15               14        498.39                  54.16   \n2                   14               13        151.16                  56.16   \n3                   20                3        328.97                  57.60   \n4                   25                3        455.50                  40.94   \n5                   21                7        320.02                  56.30   \n6                   22                1        150.42                   5.00   \n7                   12                9        207.07                  43.58   \n8                   22               11        500.63                   5.00   \n9                   22                1        212.26                  57.08   \n\n   Num_Bounced_Checks  Account_Balance  Referral_Count  Loyalty_Score  \\\n0                   0          4308.42               1            9.0   \n1                   0          3268.86               4            8.0   \n2                   1          4008.94               2            7.0   \n3                   1          4807.83               3            4.0   \n4                   0          6766.05               2            1.0   \n5                   0          2924.62               5           10.0   \n6                   0          2204.31               2            7.0   \n7                   0          6905.62               0            6.0   \n8                   0          8368.28               2            6.0   \n9                   0          7602.33               0            5.0   \n\n   Has_Credit_Card  Has_Loan  \n0              1.0       0.0  \n1              0.0       0.0  \n2              0.0       0.0  \n3              0.0       0.0  \n4              1.0       0.0  \n5              1.0       0.0  \n6              1.0       1.0  \n7              0.0       0.0  \n8              0.0       1.0  \n9              1.0       1.0  \n\n[10 rows x 23 columns]",
            "text/html": "<div>\n<style scoped>\n    .dataframe tbody tr th:only-of-type {\n        vertical-align: middle;\n    }\n\n    .dataframe tbody tr th {\n        vertical-align: top;\n    }\n\n    .dataframe thead th {\n        text-align: right;\n    }\n</style>\n<table border=\"1\" class=\"dataframe\">\n  <thead>\n    <tr style=\"text-align: right;\">\n      <th></th>\n      <th>ID</th>\n      <th>Age</th>\n      <th>Customer_Segment</th>\n      <th>Region</th>\n      <th>Preferred_Channel</th>\n      <th>Employment_Status</th>\n      <th>Annual_Income</th>\n      <th>Spending_Score</th>\n      <th>Savings_Amount</th>\n      <th>Loan_Amount</th>\n      <th>...</th>\n      <th>In_Person_Purchases</th>\n      <th>Customer_Tenure</th>\n      <th>Credit_Score</th>\n      <th>Avg_Transaction_Value</th>\n      <th>Num_Bounced_Checks</th>\n      <th>Account_Balance</th>\n      <th>Referral_Count</th>\n      <th>Loyalty_Score</th>\n      <th>Has_Credit_Card</th>\n      <th>Has_Loan</th>\n    </tr>\n  </thead>\n  <tbody>\n    <tr>\n      <th>0</th>\n      <td>1</td>\n      <td>27</td>\n      <td>0</td>\n      <td>0</td>\n      <td>Phone</td>\n      <td>Retired</td>\n      <td>32276.50</td>\n      <td>50</td>\n      <td>7014.87</td>\n      <td>17819.23</td>\n      <td>...</td>\n      <td>17</td>\n      <td>11</td>\n      <td>226.53</td>\n      <td>42.28</td>\n      <td>0</td>\n      <td>4308.42</td>\n      <td>1</td>\n      <td>9.0</td>\n      <td>1.0</td>\n      <td>0.0</td>\n    </tr>\n    <tr>\n      <th>1</th>\n      <td>2</td>\n      <td>26</td>\n      <td>2</td>\n      <td>3</td>\n      <td>Online</td>\n      <td>Unemployed</td>\n      <td>46684.36</td>\n      <td>4</td>\n      <td>7024.32</td>\n      <td>32107.05</td>\n      <td>...</td>\n      <td>15</td>\n      <td>14</td>\n      <td>498.39</td>\n      <td>54.16</td>\n      <td>0</td>\n      <td>3268.86</td>\n      <td>4</td>\n      <td>8.0</td>\n      <td>0.0</td>\n      <td>0.0</td>\n    </tr>\n    <tr>\n      <th>2</th>\n      <td>3</td>\n      <td>24</td>\n      <td>2</td>\n      <td>3</td>\n      <td>Branch</td>\n      <td>Employed</td>\n      <td>43157.47</td>\n      <td>19</td>\n      <td>5164.62</td>\n      <td>12007.58</td>\n      <td>...</td>\n      <td>14</td>\n      <td>13</td>\n      <td>151.16</td>\n      <td>56.16</td>\n      <td>1</td>\n      <td>4008.94</td>\n      <td>2</td>\n      <td>7.0</td>\n      <td>0.0</td>\n      <td>0.0</td>\n    </tr>\n    <tr>\n      <th>3</th>\n      <td>4</td>\n      <td>39</td>\n      <td>0</td>\n      <td>0</td>\n      <td>Online</td>\n      <td>Self-Employed</td>\n      <td>50095.72</td>\n      <td>92</td>\n      <td>6613.02</td>\n      <td>18061.85</td>\n      <td>...</td>\n      <td>20</td>\n      <td>3</td>\n      <td>328.97</td>\n      <td>57.60</td>\n      <td>1</td>\n      <td>4807.83</td>\n      <td>3</td>\n      <td>4.0</td>\n      <td>0.0</td>\n      <td>0.0</td>\n    </tr>\n    <tr>\n      <th>4</th>\n      <td>5</td>\n      <td>34</td>\n      <td>0</td>\n      <td>3</td>\n      <td>Phone</td>\n      <td>Unemployed</td>\n      <td>59949.10</td>\n      <td>9</td>\n      <td>8528.55</td>\n      <td>19868.64</td>\n      <td>...</td>\n      <td>25</td>\n      <td>3</td>\n      <td>455.50</td>\n      <td>40.94</td>\n      <td>0</td>\n      <td>6766.05</td>\n      <td>2</td>\n      <td>1.0</td>\n      <td>1.0</td>\n      <td>0.0</td>\n    </tr>\n    <tr>\n      <th>5</th>\n      <td>6</td>\n      <td>42</td>\n      <td>0</td>\n      <td>1</td>\n      <td>Phone</td>\n      <td>Employed</td>\n      <td>58213.10</td>\n      <td>24</td>\n      <td>13166.84</td>\n      <td>30051.91</td>\n      <td>...</td>\n      <td>21</td>\n      <td>7</td>\n      <td>320.02</td>\n      <td>56.30</td>\n      <td>0</td>\n      <td>2924.62</td>\n      <td>5</td>\n      <td>10.0</td>\n      <td>1.0</td>\n      <td>0.0</td>\n    </tr>\n    <tr>\n      <th>6</th>\n      <td>7</td>\n      <td>34</td>\n      <td>1</td>\n      <td>1</td>\n      <td>Branch</td>\n      <td>Unemployed</td>\n      <td>80811.43</td>\n      <td>80</td>\n      <td>9214.26</td>\n      <td>8602.54</td>\n      <td>...</td>\n      <td>22</td>\n      <td>1</td>\n      <td>150.42</td>\n      <td>5.00</td>\n      <td>0</td>\n      <td>2204.31</td>\n      <td>2</td>\n      <td>7.0</td>\n      <td>1.0</td>\n      <td>1.0</td>\n    </tr>\n    <tr>\n      <th>7</th>\n      <td>8</td>\n      <td>21</td>\n      <td>1</td>\n      <td>1</td>\n      <td>Online</td>\n      <td>Employed</td>\n      <td>62988.09</td>\n      <td>90</td>\n      <td>17552.78</td>\n      <td>4341.32</td>\n      <td>...</td>\n      <td>12</td>\n      <td>9</td>\n      <td>207.07</td>\n      <td>43.58</td>\n      <td>0</td>\n      <td>6905.62</td>\n      <td>0</td>\n      <td>6.0</td>\n      <td>0.0</td>\n      <td>0.0</td>\n    </tr>\n    <tr>\n      <th>8</th>\n      <td>9</td>\n      <td>25</td>\n      <td>2</td>\n      <td>1</td>\n      <td>Branch</td>\n      <td>Self-Employed</td>\n      <td>61301.26</td>\n      <td>21</td>\n      <td>20377.79</td>\n      <td>11484.24</td>\n      <td>...</td>\n      <td>22</td>\n      <td>11</td>\n      <td>500.63</td>\n      <td>5.00</td>\n      <td>0</td>\n      <td>8368.28</td>\n      <td>2</td>\n      <td>6.0</td>\n      <td>0.0</td>\n      <td>1.0</td>\n    </tr>\n    <tr>\n      <th>9</th>\n      <td>10</td>\n      <td>43</td>\n      <td>1</td>\n      <td>3</td>\n      <td>Phone</td>\n      <td>Unemployed</td>\n      <td>79071.42</td>\n      <td>54</td>\n      <td>14772.21</td>\n      <td>26288.25</td>\n      <td>...</td>\n      <td>22</td>\n      <td>1</td>\n      <td>212.26</td>\n      <td>57.08</td>\n      <td>0</td>\n      <td>7602.33</td>\n      <td>0</td>\n      <td>5.0</td>\n      <td>1.0</td>\n      <td>1.0</td>\n    </tr>\n  </tbody>\n</table>\n<p>10 rows × 23 columns</p>\n</div>"
          },
          "metadata": {}
        }
      ],
      "execution_count": 155
    },
    {
      "id": "ee586722-844e-4af5-97bc-d159ac99721a",
      "cell_type": "code",
      "source": "",
      "metadata": {
        "trusted": true
      },
      "outputs": [],
      "execution_count": null
    }
  ]
}