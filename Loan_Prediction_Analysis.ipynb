{
  "metadata": {
    "kernelspec": {
      "name": "python",
      "display_name": "Python (Pyodide)",
      "language": "python"
    },
    "language_info": {
      "codemirror_mode": {
        "name": "python",
        "version": 3
      },
      "file_extension": ".py",
      "mimetype": "text/x-python",
      "name": "python",
      "nbconvert_exporter": "python",
      "pygments_lexer": "ipython3",
      "version": "3.8"
    }
  },
  "nbformat_minor": 5,
  "nbformat": 4,
  "cells": [
    {
      "id": "f8de8f4b-f8fb-4f5d-b857-543b09803e4e",
      "cell_type": "code",
      "source": "import pandas as pd\nimport matplotlib.pyplot as plt\nimport numpy as np\n",
      "metadata": {
        "trusted": true
      },
      "outputs": [],
      "execution_count": 63
    },
    {
      "id": "af57bae4-b184-4d72-b6d3-2c9254215220",
      "cell_type": "code",
      "source": "dataset = pd.read_csv('train.csv')",
      "metadata": {
        "trusted": true
      },
      "outputs": [],
      "execution_count": 101
    },
    {
      "id": "43491571-db07-4736-b876-3463ce0e1ef0",
      "cell_type": "code",
      "source": "dataset = pd.read_csv('test.csv')",
      "metadata": {
        "trusted": true
      },
      "outputs": [],
      "execution_count": 65
    },
    {
      "id": "dd21c535-97d9-4fbd-9a6c-2d3dc2e2b68e",
      "cell_type": "code",
      "source": "dataset.head(1)",
      "metadata": {
        "trusted": true
      },
      "outputs": [
        {
          "execution_count": 66,
          "output_type": "execute_result",
          "data": {
            "text/plain": "   ID  Age Customer_Segment Region Preferred_Channel Employment_Status  \\\n0   1   27           Bronze   East             Phone           Retired   \n\n   Annual_Income  Spending_Score  Savings_Amount  Loan_Amount  ...  \\\n0        32276.5              50         7014.87     17819.23  ...   \n\n   In_Person_Purchases  Customer_Tenure  Credit_Score  Avg_Transaction_Value  \\\n0                   17               11        226.53                  42.28   \n\n   Num_Bounced_Checks  Account_Balance  Referral_Count  Loyalty_Score  \\\n0                   0          4308.42               1            9.0   \n\n   Has_Credit_Card  Has_Loan  \n0              1.0       0.0  \n\n[1 rows x 23 columns]",
            "text/html": "<div>\n<style scoped>\n    .dataframe tbody tr th:only-of-type {\n        vertical-align: middle;\n    }\n\n    .dataframe tbody tr th {\n        vertical-align: top;\n    }\n\n    .dataframe thead th {\n        text-align: right;\n    }\n</style>\n<table border=\"1\" class=\"dataframe\">\n  <thead>\n    <tr style=\"text-align: right;\">\n      <th></th>\n      <th>ID</th>\n      <th>Age</th>\n      <th>Customer_Segment</th>\n      <th>Region</th>\n      <th>Preferred_Channel</th>\n      <th>Employment_Status</th>\n      <th>Annual_Income</th>\n      <th>Spending_Score</th>\n      <th>Savings_Amount</th>\n      <th>Loan_Amount</th>\n      <th>...</th>\n      <th>In_Person_Purchases</th>\n      <th>Customer_Tenure</th>\n      <th>Credit_Score</th>\n      <th>Avg_Transaction_Value</th>\n      <th>Num_Bounced_Checks</th>\n      <th>Account_Balance</th>\n      <th>Referral_Count</th>\n      <th>Loyalty_Score</th>\n      <th>Has_Credit_Card</th>\n      <th>Has_Loan</th>\n    </tr>\n  </thead>\n  <tbody>\n    <tr>\n      <th>0</th>\n      <td>1</td>\n      <td>27</td>\n      <td>Bronze</td>\n      <td>East</td>\n      <td>Phone</td>\n      <td>Retired</td>\n      <td>32276.5</td>\n      <td>50</td>\n      <td>7014.87</td>\n      <td>17819.23</td>\n      <td>...</td>\n      <td>17</td>\n      <td>11</td>\n      <td>226.53</td>\n      <td>42.28</td>\n      <td>0</td>\n      <td>4308.42</td>\n      <td>1</td>\n      <td>9.0</td>\n      <td>1.0</td>\n      <td>0.0</td>\n    </tr>\n  </tbody>\n</table>\n<p>1 rows × 23 columns</p>\n</div>"
          },
          "metadata": {}
        }
      ],
      "execution_count": 66
    },
    {
      "id": "59afc85f-fb34-488f-9944-4af9b5fe8e6e",
      "cell_type": "code",
      "source": "dataset.info()",
      "metadata": {
        "trusted": true
      },
      "outputs": [
        {
          "name": "stdout",
          "output_type": "stream",
          "text": "<class 'pandas.core.frame.DataFrame'>\nRangeIndex: 1983 entries, 0 to 1982\nData columns (total 23 columns):\n #   Column                 Non-Null Count  Dtype  \n---  ------                 --------------  -----  \n 0   ID                     1983 non-null   int64  \n 1   Age                    1983 non-null   int64  \n 2   Customer_Segment       1983 non-null   object \n 3   Region                 1983 non-null   object \n 4   Preferred_Channel      1983 non-null   object \n 5   Employment_Status      1983 non-null   object \n 6   Annual_Income          1983 non-null   float64\n 7   Spending_Score         1983 non-null   int64  \n 8   Savings_Amount         1983 non-null   float64\n 9   Loan_Amount            1983 non-null   float64\n 10  Years_with_Bank        1983 non-null   int64  \n 11  Transaction_Count      1983 non-null   int64  \n 12  Online_Purchases       1983 non-null   int64  \n 13  In_Person_Purchases    1983 non-null   int64  \n 14  Customer_Tenure        1983 non-null   int64  \n 15  Credit_Score           1983 non-null   float64\n 16  Avg_Transaction_Value  1983 non-null   float64\n 17  Num_Bounced_Checks     1983 non-null   int64  \n 18  Account_Balance        1983 non-null   float64\n 19  Referral_Count         1983 non-null   int64  \n 20  Loyalty_Score          1983 non-null   float64\n 21  Has_Credit_Card        1983 non-null   float64\n 22  Has_Loan               1983 non-null   float64\ndtypes: float64(9), int64(10), object(4)\nmemory usage: 325.4+ KB\n"
        }
      ],
      "execution_count": 67
    },
    {
      "id": "92a7f190-7606-4e3d-afb0-cd324b652307",
      "cell_type": "code",
      "source": "dataset.isnull()\n",
      "metadata": {
        "trusted": true
      },
      "outputs": [
        {
          "execution_count": 68,
          "output_type": "execute_result",
          "data": {
            "text/plain": "         ID    Age  Customer_Segment  Region  Preferred_Channel  \\\n0     False  False             False   False              False   \n1     False  False             False   False              False   \n2     False  False             False   False              False   \n3     False  False             False   False              False   \n4     False  False             False   False              False   \n...     ...    ...               ...     ...                ...   \n1978  False  False             False   False              False   \n1979  False  False             False   False              False   \n1980  False  False             False   False              False   \n1981  False  False             False   False              False   \n1982  False  False             False   False              False   \n\n      Employment_Status  Annual_Income  Spending_Score  Savings_Amount  \\\n0                 False          False           False           False   \n1                 False          False           False           False   \n2                 False          False           False           False   \n3                 False          False           False           False   \n4                 False          False           False           False   \n...                 ...            ...             ...             ...   \n1978              False          False           False           False   \n1979              False          False           False           False   \n1980              False          False           False           False   \n1981              False          False           False           False   \n1982              False          False           False           False   \n\n      Loan_Amount  ...  In_Person_Purchases  Customer_Tenure  Credit_Score  \\\n0           False  ...                False            False         False   \n1           False  ...                False            False         False   \n2           False  ...                False            False         False   \n3           False  ...                False            False         False   \n4           False  ...                False            False         False   \n...           ...  ...                  ...              ...           ...   \n1978        False  ...                False            False         False   \n1979        False  ...                False            False         False   \n1980        False  ...                False            False         False   \n1981        False  ...                False            False         False   \n1982        False  ...                False            False         False   \n\n      Avg_Transaction_Value  Num_Bounced_Checks  Account_Balance  \\\n0                     False               False            False   \n1                     False               False            False   \n2                     False               False            False   \n3                     False               False            False   \n4                     False               False            False   \n...                     ...                 ...              ...   \n1978                  False               False            False   \n1979                  False               False            False   \n1980                  False               False            False   \n1981                  False               False            False   \n1982                  False               False            False   \n\n      Referral_Count  Loyalty_Score  Has_Credit_Card  Has_Loan  \n0              False          False            False     False  \n1              False          False            False     False  \n2              False          False            False     False  \n3              False          False            False     False  \n4              False          False            False     False  \n...              ...            ...              ...       ...  \n1978           False          False            False     False  \n1979           False          False            False     False  \n1980           False          False            False     False  \n1981           False          False            False     False  \n1982           False          False            False     False  \n\n[1983 rows x 23 columns]",
            "text/html": "<div>\n<style scoped>\n    .dataframe tbody tr th:only-of-type {\n        vertical-align: middle;\n    }\n\n    .dataframe tbody tr th {\n        vertical-align: top;\n    }\n\n    .dataframe thead th {\n        text-align: right;\n    }\n</style>\n<table border=\"1\" class=\"dataframe\">\n  <thead>\n    <tr style=\"text-align: right;\">\n      <th></th>\n      <th>ID</th>\n      <th>Age</th>\n      <th>Customer_Segment</th>\n      <th>Region</th>\n      <th>Preferred_Channel</th>\n      <th>Employment_Status</th>\n      <th>Annual_Income</th>\n      <th>Spending_Score</th>\n      <th>Savings_Amount</th>\n      <th>Loan_Amount</th>\n      <th>...</th>\n      <th>In_Person_Purchases</th>\n      <th>Customer_Tenure</th>\n      <th>Credit_Score</th>\n      <th>Avg_Transaction_Value</th>\n      <th>Num_Bounced_Checks</th>\n      <th>Account_Balance</th>\n      <th>Referral_Count</th>\n      <th>Loyalty_Score</th>\n      <th>Has_Credit_Card</th>\n      <th>Has_Loan</th>\n    </tr>\n  </thead>\n  <tbody>\n    <tr>\n      <th>0</th>\n      <td>False</td>\n      <td>False</td>\n      <td>False</td>\n      <td>False</td>\n      <td>False</td>\n      <td>False</td>\n      <td>False</td>\n      <td>False</td>\n      <td>False</td>\n      <td>False</td>\n      <td>...</td>\n      <td>False</td>\n      <td>False</td>\n      <td>False</td>\n      <td>False</td>\n      <td>False</td>\n      <td>False</td>\n      <td>False</td>\n      <td>False</td>\n      <td>False</td>\n      <td>False</td>\n    </tr>\n    <tr>\n      <th>1</th>\n      <td>False</td>\n      <td>False</td>\n      <td>False</td>\n      <td>False</td>\n      <td>False</td>\n      <td>False</td>\n      <td>False</td>\n      <td>False</td>\n      <td>False</td>\n      <td>False</td>\n      <td>...</td>\n      <td>False</td>\n      <td>False</td>\n      <td>False</td>\n      <td>False</td>\n      <td>False</td>\n      <td>False</td>\n      <td>False</td>\n      <td>False</td>\n      <td>False</td>\n      <td>False</td>\n    </tr>\n    <tr>\n      <th>2</th>\n      <td>False</td>\n      <td>False</td>\n      <td>False</td>\n      <td>False</td>\n      <td>False</td>\n      <td>False</td>\n      <td>False</td>\n      <td>False</td>\n      <td>False</td>\n      <td>False</td>\n      <td>...</td>\n      <td>False</td>\n      <td>False</td>\n      <td>False</td>\n      <td>False</td>\n      <td>False</td>\n      <td>False</td>\n      <td>False</td>\n      <td>False</td>\n      <td>False</td>\n      <td>False</td>\n    </tr>\n    <tr>\n      <th>3</th>\n      <td>False</td>\n      <td>False</td>\n      <td>False</td>\n      <td>False</td>\n      <td>False</td>\n      <td>False</td>\n      <td>False</td>\n      <td>False</td>\n      <td>False</td>\n      <td>False</td>\n      <td>...</td>\n      <td>False</td>\n      <td>False</td>\n      <td>False</td>\n      <td>False</td>\n      <td>False</td>\n      <td>False</td>\n      <td>False</td>\n      <td>False</td>\n      <td>False</td>\n      <td>False</td>\n    </tr>\n    <tr>\n      <th>4</th>\n      <td>False</td>\n      <td>False</td>\n      <td>False</td>\n      <td>False</td>\n      <td>False</td>\n      <td>False</td>\n      <td>False</td>\n      <td>False</td>\n      <td>False</td>\n      <td>False</td>\n      <td>...</td>\n      <td>False</td>\n      <td>False</td>\n      <td>False</td>\n      <td>False</td>\n      <td>False</td>\n      <td>False</td>\n      <td>False</td>\n      <td>False</td>\n      <td>False</td>\n      <td>False</td>\n    </tr>\n    <tr>\n      <th>...</th>\n      <td>...</td>\n      <td>...</td>\n      <td>...</td>\n      <td>...</td>\n      <td>...</td>\n      <td>...</td>\n      <td>...</td>\n      <td>...</td>\n      <td>...</td>\n      <td>...</td>\n      <td>...</td>\n      <td>...</td>\n      <td>...</td>\n      <td>...</td>\n      <td>...</td>\n      <td>...</td>\n      <td>...</td>\n      <td>...</td>\n      <td>...</td>\n      <td>...</td>\n      <td>...</td>\n    </tr>\n    <tr>\n      <th>1978</th>\n      <td>False</td>\n      <td>False</td>\n      <td>False</td>\n      <td>False</td>\n      <td>False</td>\n      <td>False</td>\n      <td>False</td>\n      <td>False</td>\n      <td>False</td>\n      <td>False</td>\n      <td>...</td>\n      <td>False</td>\n      <td>False</td>\n      <td>False</td>\n      <td>False</td>\n      <td>False</td>\n      <td>False</td>\n      <td>False</td>\n      <td>False</td>\n      <td>False</td>\n      <td>False</td>\n    </tr>\n    <tr>\n      <th>1979</th>\n      <td>False</td>\n      <td>False</td>\n      <td>False</td>\n      <td>False</td>\n      <td>False</td>\n      <td>False</td>\n      <td>False</td>\n      <td>False</td>\n      <td>False</td>\n      <td>False</td>\n      <td>...</td>\n      <td>False</td>\n      <td>False</td>\n      <td>False</td>\n      <td>False</td>\n      <td>False</td>\n      <td>False</td>\n      <td>False</td>\n      <td>False</td>\n      <td>False</td>\n      <td>False</td>\n    </tr>\n    <tr>\n      <th>1980</th>\n      <td>False</td>\n      <td>False</td>\n      <td>False</td>\n      <td>False</td>\n      <td>False</td>\n      <td>False</td>\n      <td>False</td>\n      <td>False</td>\n      <td>False</td>\n      <td>False</td>\n      <td>...</td>\n      <td>False</td>\n      <td>False</td>\n      <td>False</td>\n      <td>False</td>\n      <td>False</td>\n      <td>False</td>\n      <td>False</td>\n      <td>False</td>\n      <td>False</td>\n      <td>False</td>\n    </tr>\n    <tr>\n      <th>1981</th>\n      <td>False</td>\n      <td>False</td>\n      <td>False</td>\n      <td>False</td>\n      <td>False</td>\n      <td>False</td>\n      <td>False</td>\n      <td>False</td>\n      <td>False</td>\n      <td>False</td>\n      <td>...</td>\n      <td>False</td>\n      <td>False</td>\n      <td>False</td>\n      <td>False</td>\n      <td>False</td>\n      <td>False</td>\n      <td>False</td>\n      <td>False</td>\n      <td>False</td>\n      <td>False</td>\n    </tr>\n    <tr>\n      <th>1982</th>\n      <td>False</td>\n      <td>False</td>\n      <td>False</td>\n      <td>False</td>\n      <td>False</td>\n      <td>False</td>\n      <td>False</td>\n      <td>False</td>\n      <td>False</td>\n      <td>False</td>\n      <td>...</td>\n      <td>False</td>\n      <td>False</td>\n      <td>False</td>\n      <td>False</td>\n      <td>False</td>\n      <td>False</td>\n      <td>False</td>\n      <td>False</td>\n      <td>False</td>\n      <td>False</td>\n    </tr>\n  </tbody>\n</table>\n<p>1983 rows × 23 columns</p>\n</div>"
          },
          "metadata": {}
        }
      ],
      "execution_count": 68
    },
    {
      "id": "5a1fa0a8-ab4c-4d43-bbe5-a4b735af2ac9",
      "cell_type": "code",
      "source": "dataset.isnull().sum()",
      "metadata": {
        "trusted": true
      },
      "outputs": [
        {
          "execution_count": 69,
          "output_type": "execute_result",
          "data": {
            "text/plain": "ID                       0\nAge                      0\nCustomer_Segment         0\nRegion                   0\nPreferred_Channel        0\nEmployment_Status        0\nAnnual_Income            0\nSpending_Score           0\nSavings_Amount           0\nLoan_Amount              0\nYears_with_Bank          0\nTransaction_Count        0\nOnline_Purchases         0\nIn_Person_Purchases      0\nCustomer_Tenure          0\nCredit_Score             0\nAvg_Transaction_Value    0\nNum_Bounced_Checks       0\nAccount_Balance          0\nReferral_Count           0\nLoyalty_Score            0\nHas_Credit_Card          0\nHas_Loan                 0\ndtype: int64"
          },
          "metadata": {}
        }
      ],
      "execution_count": 69
    },
    {
      "id": "00c4687d-fe97-4c67-a405-a5582d44e216",
      "cell_type": "code",
      "source": "(dataset.isnull().sum()/dataset.shape[0])*100",
      "metadata": {
        "trusted": true
      },
      "outputs": [
        {
          "execution_count": 70,
          "output_type": "execute_result",
          "data": {
            "text/plain": "ID                       0.0\nAge                      0.0\nCustomer_Segment         0.0\nRegion                   0.0\nPreferred_Channel        0.0\nEmployment_Status        0.0\nAnnual_Income            0.0\nSpending_Score           0.0\nSavings_Amount           0.0\nLoan_Amount              0.0\nYears_with_Bank          0.0\nTransaction_Count        0.0\nOnline_Purchases         0.0\nIn_Person_Purchases      0.0\nCustomer_Tenure          0.0\nCredit_Score             0.0\nAvg_Transaction_Value    0.0\nNum_Bounced_Checks       0.0\nAccount_Balance          0.0\nReferral_Count           0.0\nLoyalty_Score            0.0\nHas_Credit_Card          0.0\nHas_Loan                 0.0\ndtype: float64"
          },
          "metadata": {}
        }
      ],
      "execution_count": 70
    },
    {
      "id": "3d4ca996-72e2-4300-9eca-3c29443e8616",
      "cell_type": "code",
      "source": "dataset['Customer_Segment']\n",
      "metadata": {
        "trusted": true
      },
      "outputs": [
        {
          "execution_count": 71,
          "output_type": "execute_result",
          "data": {
            "text/plain": "0         Bronze\n1       Platinum\n2       Platinum\n3         Bronze\n4         Bronze\n          ...   \n1978    Platinum\n1979        Gold\n1980      Silver\n1981      Silver\n1982      Bronze\nName: Customer_Segment, Length: 1983, dtype: object"
          },
          "metadata": {}
        }
      ],
      "execution_count": 71
    },
    {
      "id": "7aeefc8b-2640-4b68-bf21-aac7671646a5",
      "cell_type": "code",
      "source": "dataset['Customer_Segment'][0]",
      "metadata": {
        "trusted": true
      },
      "outputs": [
        {
          "execution_count": 72,
          "output_type": "execute_result",
          "data": {
            "text/plain": "'Bronze'"
          },
          "metadata": {}
        }
      ],
      "execution_count": 72
    },
    {
      "id": "7702dc57-3418-4b32-aaf9-2205fb22259b",
      "cell_type": "code",
      "source": "dataset['Customer_Segment'][1]",
      "metadata": {
        "trusted": true
      },
      "outputs": [
        {
          "execution_count": 73,
          "output_type": "execute_result",
          "data": {
            "text/plain": "'Platinum'"
          },
          "metadata": {}
        }
      ],
      "execution_count": 73
    },
    {
      "id": "b512014c-97a5-4a73-a368-358acff330a5",
      "cell_type": "code",
      "source": "dataset['Customer_Segment'][4]",
      "metadata": {
        "trusted": true
      },
      "outputs": [
        {
          "execution_count": 74,
          "output_type": "execute_result",
          "data": {
            "text/plain": "'Bronze'"
          },
          "metadata": {}
        }
      ],
      "execution_count": 74
    },
    {
      "id": "40758ac3-0d61-48c0-86e4-fef947263896",
      "cell_type": "code",
      "source": "x = dataset['Customer_Segment'][4]",
      "metadata": {
        "trusted": true
      },
      "outputs": [],
      "execution_count": 75
    },
    {
      "id": "596a8c9b-46fa-4263-85e0-c2d257ba397b",
      "cell_type": "code",
      "source": "test = pd.read_csv('test.csv')",
      "metadata": {
        "trusted": true
      },
      "outputs": [],
      "execution_count": 76
    },
    {
      "id": "1f780ad0-8217-4e75-a456-3b89cc2eecad",
      "cell_type": "code",
      "source": "train = pd.read_csv('test.csv')",
      "metadata": {
        "trusted": true
      },
      "outputs": [],
      "execution_count": 77
    },
    {
      "id": "c5be6cca-8979-4c50-9f2d-1012d9581acf",
      "cell_type": "code",
      "source": "print(\"\\nshow missing value:\")\nprint(train.isnull().sum()[train.isnull().sum() > 0 ])",
      "metadata": {
        "trusted": true
      },
      "outputs": [
        {
          "name": "stdout",
          "output_type": "stream",
          "text": "\nshow missing value:\nSeries([], dtype: int64)\n"
        }
      ],
      "execution_count": 78
    },
    {
      "id": "efd88df5-ef3e-4e6c-ae06-18ac9aa19887",
      "cell_type": "code",
      "source": "print(\"show duplicates:\")\ntest = test.drop_duplicates()",
      "metadata": {
        "trusted": true
      },
      "outputs": [
        {
          "name": "stdout",
          "output_type": "stream",
          "text": "show duplicates:\n"
        }
      ],
      "execution_count": 79
    },
    {
      "id": "d80b262e-67c6-4bef-9f06-7b22919823b9",
      "cell_type": "code",
      "source": "print(\"show missing value:\")\nprint(test.isnull().sum()[test.isnull().sum() > 0 ])",
      "metadata": {
        "trusted": true
      },
      "outputs": [
        {
          "name": "stdout",
          "output_type": "stream",
          "text": "show missing value:\nSeries([], dtype: int64)\n"
        }
      ],
      "execution_count": 80
    },
    {
      "id": "fb5bbc92-b17f-44a1-b3b2-79e6a2ba93fe",
      "cell_type": "code",
      "source": "missing_values = test.isnull().sum()\nmissing_values = missing_values[missing_values > 0]\nif missing_values.empty :\n    print(\"No missing value seen\", dataset)\nelif missing_values:\n    print(\"missing value found\")",
      "metadata": {
        "trusted": true
      },
      "outputs": [
        {
          "name": "stdout",
          "output_type": "stream",
          "text": "No missing value seen         ID  Age Customer_Segment Region Preferred_Channel Employment_Status  \\\n0        1   27           Bronze   East             Phone           Retired   \n1        2   26         Platinum   West            Online        Unemployed   \n2        3   24         Platinum   West            Branch          Employed   \n3        4   39           Bronze   East            Online     Self-Employed   \n4        5   34           Bronze   West             Phone        Unemployed   \n...    ...  ...              ...    ...               ...               ...   \n1978  1979   44         Platinum  North            Online     Self-Employed   \n1979  1980   30             Gold  North             Phone          Employed   \n1980  1981   19           Silver  North            Online     Self-Employed   \n1981  1982   27           Silver   West             Phone           Retired   \n1982  1983   37           Bronze   East             Phone     Self-Employed   \n\n      Annual_Income  Spending_Score  Savings_Amount  Loan_Amount  ...  \\\n0          32276.50              50         7014.87     17819.23  ...   \n1          46684.36               4         7024.32     32107.05  ...   \n2          43157.47              19         5164.62     12007.58  ...   \n3          50095.72              92         6613.02     18061.85  ...   \n4          59949.10               9         8528.55     19868.64  ...   \n...             ...             ...             ...          ...  ...   \n1978       70493.22              52         9168.38     27492.57  ...   \n1979       66910.25              11         6214.04     21102.00  ...   \n1980       51171.77               7         8703.62     27661.89  ...   \n1981       85394.21              79         6397.21     16022.39  ...   \n1982       62281.49              91         7528.12     31429.83  ...   \n\n      In_Person_Purchases  Customer_Tenure  Credit_Score  \\\n0                      17               11        226.53   \n1                      15               14        498.39   \n2                      14               13        151.16   \n3                      20                3        328.97   \n4                      25                3        455.50   \n...                   ...              ...           ...   \n1978                   17               11        204.51   \n1979                   24                6        383.19   \n1980                   17                5        200.91   \n1981                   22                8        452.94   \n1982                   20                8        194.91   \n\n      Avg_Transaction_Value  Num_Bounced_Checks  Account_Balance  \\\n0                     42.28                   0          4308.42   \n1                     54.16                   0          3268.86   \n2                     56.16                   1          4008.94   \n3                     57.60                   1          4807.83   \n4                     40.94                   0          6766.05   \n...                     ...                 ...              ...   \n1978                  35.84                   0          4999.88   \n1979                  55.73                   0          8459.96   \n1980                  62.05                   0          7811.33   \n1981                  19.58                   0          8264.80   \n1982                  45.32                   0         10752.54   \n\n      Referral_Count  Loyalty_Score  Has_Credit_Card  Has_Loan  \n0                  1            9.0              1.0       0.0  \n1                  4            8.0              0.0       0.0  \n2                  2            7.0              0.0       0.0  \n3                  3            4.0              0.0       0.0  \n4                  2            1.0              1.0       0.0  \n...              ...            ...              ...       ...  \n1978               1            8.0              0.0       0.0  \n1979               1            3.0              1.0       0.0  \n1980               5           10.0              1.0       1.0  \n1981               0            4.0              1.0       1.0  \n1982               4            4.0              1.0       0.0  \n\n[1983 rows x 23 columns]\n"
        }
      ],
      "execution_count": 100
    },
    {
      "id": "e1970044-b01f-4e0c-93d9-82e117136d2f",
      "cell_type": "code",
      "source": "",
      "metadata": {
        "trusted": true
      },
      "outputs": [],
      "execution_count": null
    },
    {
      "id": "c764780f-6e0f-4cfc-b57d-55fc78606230",
      "cell_type": "code",
      "source": "",
      "metadata": {
        "trusted": true
      },
      "outputs": [],
      "execution_count": null
    }
  ]
}